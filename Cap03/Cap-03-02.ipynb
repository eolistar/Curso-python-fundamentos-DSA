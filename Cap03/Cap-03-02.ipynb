{
 "cells": [
  {
   "cell_type": "markdown",
   "id": "4755691d",
   "metadata": {},
   "source": [
    "## Loop for"
   ]
  },
  {
   "cell_type": "code",
   "execution_count": 3,
   "id": "33e81ab8",
   "metadata": {},
   "outputs": [
    {
     "name": "stdout",
     "output_type": "stream",
     "text": [
      "1\n",
      "5\n",
      "8\n"
     ]
    }
   ],
   "source": [
    "# As variáveis foram criadas para deixar bem intuitivo\n",
    "tupla = (1, 5, 8)\n",
    "for item in tupla:\n",
    "    print(item)"
   ]
  },
  {
   "cell_type": "code",
   "execution_count": 5,
   "id": "2c171c46",
   "metadata": {},
   "outputs": [
    {
     "name": "stdout",
     "output_type": "stream",
     "text": [
      "Ovo\n",
      "Leite\n",
      "Açucar\n",
      "Farinha\n"
     ]
    }
   ],
   "source": [
    "# Imprimindo todos os valores de uma lista com for\n",
    "ListaMercado = ['Ovo', 'Leite', 'Açucar', 'Farinha']\n",
    "for i in ListaMercado:\n",
    "    print(i)"
   ]
  },
  {
   "cell_type": "code",
   "execution_count": 6,
   "id": "a6c79984",
   "metadata": {},
   "outputs": [
    {
     "name": "stdout",
     "output_type": "stream",
     "text": [
      "0\n",
      "1\n",
      "2\n",
      "3\n",
      "4\n",
      "5\n"
     ]
    }
   ],
   "source": [
    "# Podemos usar o range \n",
    "for contador in range(0,6):\n",
    "    print(contador)"
   ]
  },
  {
   "cell_type": "code",
   "execution_count": 10,
   "id": "1fdf7c60",
   "metadata": {},
   "outputs": [
    {
     "name": "stdout",
     "output_type": "stream",
     "text": [
      "2\n",
      "4\n",
      "6\n",
      "8\n",
      "10\n"
     ]
    }
   ],
   "source": [
    "# Encadeamos for e if para identificar e imprimir apenas os números pares da lista \n",
    "lista = [1,2,3,4,5,6,7,8,9,10]\n",
    "for num in lista:\n",
    "    if num % 2 == 0:\n",
    "        print(num)"
   ]
  },
  {
   "cell_type": "code",
   "execution_count": 12,
   "id": "f810ce94",
   "metadata": {},
   "outputs": [
    {
     "name": "stdout",
     "output_type": "stream",
     "text": [
      "0\n",
      "2\n",
      "4\n",
      "6\n",
      "8\n",
      "10\n",
      "12\n",
      "14\n",
      "16\n",
      "18\n",
      "20\n",
      "22\n",
      "24\n",
      "26\n",
      "28\n",
      "30\n",
      "32\n",
      "34\n",
      "36\n",
      "38\n",
      "40\n",
      "42\n",
      "44\n",
      "46\n",
      "48\n",
      "50\n",
      "52\n",
      "54\n",
      "56\n",
      "58\n",
      "60\n",
      "62\n",
      "64\n",
      "66\n",
      "68\n",
      "70\n",
      "72\n",
      "74\n",
      "76\n",
      "78\n",
      "80\n",
      "82\n",
      "84\n",
      "86\n",
      "88\n",
      "90\n",
      "92\n",
      "94\n",
      "96\n",
      "98\n",
      "100\n"
     ]
    }
   ],
   "source": [
    "# Conseguimos imprimir os números nesse range com intervalo de 2 números\n",
    "for num in range(0, 101, 2):\n",
    "    print(num)"
   ]
  },
  {
   "cell_type": "code",
   "execution_count": 14,
   "id": "e94e527b",
   "metadata": {},
   "outputs": [
    {
     "name": "stdout",
     "output_type": "stream",
     "text": [
      "P\n",
      "y\n",
      "t\n",
      "h\n",
      "o\n",
      "n\n",
      " \n",
      "é\n",
      " \n",
      "a\n",
      " \n",
      "l\n",
      "i\n",
      "n\n",
      "g\n",
      "u\n",
      "a\n",
      "g\n",
      "e\n",
      "m\n",
      " \n",
      "d\n",
      "e\n",
      " \n",
      "p\n",
      "r\n",
      "o\n",
      "g\n",
      "r\n",
      "a\n",
      "m\n",
      "a\n",
      "ç\n",
      "ã\n",
      "o\n",
      " \n",
      "i\n",
      "d\n",
      "e\n",
      "a\n",
      "l\n",
      " \n",
      "p\n",
      "a\n",
      "r\n",
      "a\n",
      " \n",
      "d\n",
      "a\n",
      "t\n",
      "a\n",
      " \n",
      "s\n",
      "c\n",
      "i\n",
      "e\n",
      "n\n",
      "c\n",
      "e\n"
     ]
    }
   ],
   "source": [
    "# caracteres em uma string também são contados e possuem um índice\n",
    "for caracter in 'Python é a linguagem de programação ideal para data science':\n",
    "    print(caracter)"
   ]
  },
  {
   "cell_type": "markdown",
   "id": "0391511c",
   "metadata": {},
   "source": [
    "## Loops aninhados"
   ]
  },
  {
   "cell_type": "code",
   "execution_count": 18,
   "id": "f4624471",
   "metadata": {},
   "outputs": [
    {
     "name": "stdout",
     "output_type": "stream",
     "text": [
      "0\n",
      "1\n",
      "2\n",
      "3\n",
      "0\n",
      "1\n",
      "2\n",
      "3\n",
      "0\n",
      "1\n",
      "2\n",
      "3\n",
      "0\n",
      "1\n",
      "2\n",
      "3\n"
     ]
    }
   ],
   "source": [
    "# Com os loops aninhados conseguimos criar, por exemplo, a repetição determinadas vezes de uma sequência\n",
    "for a in range(0,4):\n",
    "    for b in range(0,4):\n",
    "        print(b)"
   ]
  },
  {
   "cell_type": "code",
   "execution_count": 23,
   "id": "3d06f86b",
   "metadata": {},
   "outputs": [
    {
     "name": "stdout",
     "output_type": "stream",
     "text": [
      "480\n"
     ]
    }
   ],
   "source": [
    "# Operando os valores de uma lista com loop for\n",
    "lista1 = [15,20,25,50,60,70]\n",
    "soma = 0\n",
    "for i in lista1:\n",
    "    double_i = i * 2\n",
    "    soma += double_i\n",
    "print(soma)"
   ]
  },
  {
   "cell_type": "code",
   "execution_count": 25,
   "id": "7e266ad9",
   "metadata": {},
   "outputs": [
    {
     "name": "stdout",
     "output_type": "stream",
     "text": [
      "[1, 2, 3]\n",
      "[20, 30, 40]\n",
      "[100, 200, 300]\n"
     ]
    }
   ],
   "source": [
    "# Loops em lista de listas\n",
    "listaL = [[1,2,3], [20,30,40], [100,200,300]]\n",
    "for i in listaL:\n",
    "    print(i)"
   ]
  },
  {
   "cell_type": "code",
   "execution_count": 26,
   "id": "654ebcee",
   "metadata": {},
   "outputs": [
    {
     "name": "stdout",
     "output_type": "stream",
     "text": [
      "5\n"
     ]
    }
   ],
   "source": [
    "# Contando os itens de uma lista\n",
    "lista2 = [5,8,18,75,125]\n",
    "contador = 0\n",
    "for i in lista2:\n",
    "    contador += 1\n",
    "print(contador)"
   ]
  },
  {
   "cell_type": "code",
   "execution_count": 27,
   "id": "a3b59ccb",
   "metadata": {},
   "outputs": [
    {
     "name": "stdout",
     "output_type": "stream",
     "text": [
      "3\n"
     ]
    }
   ],
   "source": [
    "# Contando o número de colunas\n",
    "listaL = [[1,2,3], [20,30,40], [100,200,300]]\n",
    "primeira_linha = listaL[0]\n",
    "contador = 0\n",
    "for coluna in primeira_linha:\n",
    "    contador = contador + 1\n",
    "print(contador)"
   ]
  },
  {
   "cell_type": "code",
   "execution_count": 30,
   "id": "e512badd",
   "metadata": {},
   "outputs": [
    {
     "name": "stdout",
     "output_type": "stream",
     "text": [
      "Número encontrado na lista!\n"
     ]
    }
   ],
   "source": [
    "# Pesquisando em listas\n",
    "Lista3 = [14,15,18,19,22,23]\n",
    "for i in Lista3:\n",
    "    if i == 14:\n",
    "        print('Número encontrado na lista!')\n",
    "# Conseguimos fazer uma pesquisa dentro de uma lista"
   ]
  },
  {
   "cell_type": "code",
   "execution_count": 31,
   "id": "d6822481",
   "metadata": {},
   "outputs": [
    {
     "name": "stdout",
     "output_type": "stream",
     "text": [
      "k1\n",
      "k2\n",
      "k3\n"
     ]
    }
   ],
   "source": [
    "# Listando as chaves de um dicionário\n",
    "dict1 = {'k1':15, 'k2':'python', 'k3':'science'}\n",
    "for i in dict1:\n",
    "    print(i)"
   ]
  },
  {
   "cell_type": "code",
   "execution_count": 32,
   "id": "f07f76e2",
   "metadata": {},
   "outputs": [
    {
     "name": "stdout",
     "output_type": "stream",
     "text": [
      "k1 15\n",
      "k2 python\n",
      "k3 science\n"
     ]
    }
   ],
   "source": [
    "# Imprimindo chave e valor do dicionário. Usando o método items() para retornar os itens de um dicionário\n",
    "for k,v in dict1.items():\n",
    "    print (k,v)"
   ]
  }
 ],
 "metadata": {
  "kernelspec": {
   "display_name": "Python 3 (ipykernel)",
   "language": "python",
   "name": "python3"
  },
  "language_info": {
   "codemirror_mode": {
    "name": "ipython",
    "version": 3
   },
   "file_extension": ".py",
   "mimetype": "text/x-python",
   "name": "python",
   "nbconvert_exporter": "python",
   "pygments_lexer": "ipython3",
   "version": "3.9.7"
  }
 },
 "nbformat": 4,
 "nbformat_minor": 5
}
