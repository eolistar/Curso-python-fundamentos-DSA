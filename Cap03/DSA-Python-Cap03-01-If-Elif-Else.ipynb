{
 "cells": [
  {
   "cell_type": "markdown",
   "id": "3475f4f8",
   "metadata": {},
   "source": [
    "## Condicional if"
   ]
  },
  {
   "cell_type": "code",
   "execution_count": null,
   "id": "8be2e91a",
   "metadata": {},
   "outputs": [],
   "source": [
    "if 5 > 2:\n",
    "    print ('Python Funciona')"
   ]
  },
  {
   "cell_type": "code",
   "execution_count": null,
   "id": "0d32bf4c",
   "metadata": {},
   "outputs": [],
   "source": [
    "if 5 < 2:\n",
    "    print ('Python Funciona')\n",
    "else:\n",
    "    print ('Algo está errado')"
   ]
  },
  {
   "cell_type": "code",
   "execution_count": null,
   "id": "9d1f0517",
   "metadata": {},
   "outputs": [],
   "source": [
    "8 > 4"
   ]
  },
  {
   "cell_type": "code",
   "execution_count": null,
   "id": "39ddf5fa",
   "metadata": {},
   "outputs": [],
   "source": [
    "5 < 10"
   ]
  },
  {
   "cell_type": "code",
   "execution_count": null,
   "id": "e3d58e13",
   "metadata": {},
   "outputs": [],
   "source": [
    "7 < 3"
   ]
  },
  {
   "cell_type": "code",
   "execution_count": null,
   "id": "b71f1991",
   "metadata": {},
   "outputs": [],
   "source": [
    "9 > 10"
   ]
  },
  {
   "cell_type": "code",
   "execution_count": null,
   "id": "9ad7b1d1",
   "metadata": {},
   "outputs": [],
   "source": [
    "4 > 4"
   ]
  },
  {
   "cell_type": "code",
   "execution_count": null,
   "id": "58074d36",
   "metadata": {},
   "outputs": [],
   "source": [
    "4 >= 4"
   ]
  },
  {
   "cell_type": "code",
   "execution_count": null,
   "id": "ee3013ec",
   "metadata": {},
   "outputs": [],
   "source": [
    "if 5 == 5:\n",
    "    print (\"Testando Python\" )"
   ]
  },
  {
   "cell_type": "code",
   "execution_count": null,
   "id": "3c13e6ea",
   "metadata": {},
   "outputs": [],
   "source": [
    "if True:\n",
    "    print ('Parece que python funciona')"
   ]
  },
  {
   "cell_type": "code",
   "execution_count": null,
   "id": "910fc1c6",
   "metadata": {},
   "outputs": [],
   "source": [
    "if 4 > 3:\n",
    "print ('A indentação é muito importante')"
   ]
  },
  {
   "cell_type": "code",
   "execution_count": null,
   "id": "7143af23",
   "metadata": {},
   "outputs": [],
   "source": [
    "if 4 > 3:\n",
    "    print ('A identação é muito importante')"
   ]
  },
  {
   "cell_type": "markdown",
   "id": "ddbc06ab",
   "metadata": {},
   "source": [
    "## Condicionais aninhados"
   ]
  },
  {
   "cell_type": "code",
   "execution_count": null,
   "id": "4795f5b3",
   "metadata": {},
   "outputs": [],
   "source": [
    "idade = 18\n",
    "if idade >=18:\n",
    "    print ('Você pode dirigir')"
   ]
  },
  {
   "cell_type": "code",
   "execution_count": null,
   "id": "cb22a8a3",
   "metadata": {},
   "outputs": [],
   "source": [
    "nome = 'Bob'\n",
    "if idade > 12:\n",
    "    if nome == 'Bob':\n",
    "        print('Ok Bob você pode entrar')\n",
    "    else:\n",
    "        print('Desculpe, mas você não pode entrar')"
   ]
  },
  {
   "cell_type": "code",
   "execution_count": null,
   "id": "da949bdc",
   "metadata": {},
   "outputs": [],
   "source": [
    "idade = 13\n",
    "nome = 'Bob'\n",
    "if idade > 12 and nome == 'Bob':\n",
    "    print ('Ok Bob você pode entrar')"
   ]
  },
  {
   "cell_type": "code",
   "execution_count": null,
   "id": "7b9b7705",
   "metadata": {},
   "outputs": [],
   "source": [
    "idade = 13\n",
    "nome = 'Bob'\n",
    "if (idade > 12) or (nome == 'Bob'):\n",
    "    print ('Ok Bob você pode entrar')"
   ]
  },
  {
   "cell_type": "code",
   "execution_count": null,
   "id": "d80bcb8f",
   "metadata": {},
   "outputs": [],
   "source": [
    "idade = 13\n",
    "nome = 'Bob'\n",
    "if (idade > 18) and (nome == 'Bob'):\n",
    "    print ('Ok Bob você pode entrar')\n",
    "else:\n",
    "    print ('Desculpe, mas você não pode entrar')"
   ]
  },
  {
   "cell_type": "markdown",
   "id": "780cb9dd",
   "metadata": {},
   "source": [
    "## Elif"
   ]
  },
  {
   "cell_type": "code",
   "execution_count": null,
   "id": "d2a11586",
   "metadata": {},
   "outputs": [],
   "source": [
    "dia = 'Terça'\n",
    "if dia == 'Segunda':\n",
    "    print('hoje fará sol')\n",
    "else:\n",
    "    print('hoje vai chover')"
   ]
  },
  {
   "cell_type": "code",
   "execution_count": null,
   "id": "c11ec41d",
   "metadata": {},
   "outputs": [],
   "source": [
    "if dia == 'Segunda':\n",
    "    print('hoje fará sol')\n",
    "elif dia == 'Terça':\n",
    "    print('hoje vai chover')\n",
    "else:\n",
    "    print('Não há previsão do tempo para o dia selecionado')"
   ]
  },
  {
   "cell_type": "code",
   "execution_count": null,
   "id": "5dd6c1c6",
   "metadata": {},
   "outputs": [],
   "source": [
    "dia = 'Quarta'\n",
    "if dia == 'Segunda':\n",
    "    print('hoje fará sol')\n",
    "elif dia == 'Terça':\n",
    "    print('hoje vai chover')\n",
    "else:\n",
    "    print('Não há previsão do tempo para o dia selecionado')"
   ]
  },
  {
   "cell_type": "markdown",
   "id": "a600c133",
   "metadata": {},
   "source": [
    "## Operadores Lógicos"
   ]
  },
  {
   "cell_type": "code",
   "execution_count": null,
   "id": "7594cfdb",
   "metadata": {},
   "outputs": [],
   "source": [
    "idade = 18\n",
    "if idade >=18:\n",
    "    print ('Você pode dirigir')"
   ]
  },
  {
   "cell_type": "code",
   "execution_count": null,
   "id": "c23bd0be",
   "metadata": {},
   "outputs": [],
   "source": [
    "idade = 18\n",
    "nome = 'Bob'\n",
    "if idade >=18 and nome=='Bob':\n",
    "    print ('Autorizado')"
   ]
  },
  {
   "cell_type": "code",
   "execution_count": null,
   "id": "52c8287f",
   "metadata": {},
   "outputs": [],
   "source": [
    "# input estamo introduzindo placeholders, dessa forma o usuário pode interagir com o código\n",
    "disciplina = input('Digite o nome da disciplina: ')\n",
    "nota_final = input('Digite a nota final (entre 0 e 100): ')\n",
    "\n",
    "if disciplina == 'Geografia' and nota_final >= '70':\n",
    "    print('Você foi aprovado!')\n",
    "else:\n",
    "    print('Lamento, acho que você precisa estudar mais.')"
   ]
  },
  {
   "cell_type": "code",
   "execution_count": 1,
   "id": "9616bcd0",
   "metadata": {},
   "outputs": [
    {
     "name": "stdout",
     "output_type": "stream",
     "text": [
      "Digite o nome da disciplina: Geografia\n",
      "Digite a nota final (entre 0 e 100): 60\n",
      "Digite o semestre (1 e 4): 2\n",
      "Você foi aprovado em Geografia com média final '60'!\n"
     ]
    }
   ],
   "source": [
    "disciplina = input('Digite o nome da disciplina: ')\n",
    "nota_final = input('Digite a nota final (entre 0 e 100): ')\n",
    "semestre = input('Digite o semestre (1 e 4): ')\n",
    "\n",
    "if disciplina == 'Geografia' and nota_final >= '50' and int(semestre) != 1:\n",
    "    print('Você foi aprovado em %s com média final %r!' %(disciplina, nota_final))\n",
    "else:\n",
    "    print('Lamento, acho que você precisa estudar mais.')"
   ]
  }
 ],
 "metadata": {
  "kernelspec": {
   "display_name": "Python 3 (ipykernel)",
   "language": "python",
   "name": "python3"
  },
  "language_info": {
   "codemirror_mode": {
    "name": "ipython",
    "version": 3
   },
   "file_extension": ".py",
   "mimetype": "text/x-python",
   "name": "python",
   "nbconvert_exporter": "python",
   "pygments_lexer": "ipython3",
   "version": "3.9.7"
  }
 },
 "nbformat": 4,
 "nbformat_minor": 5
}
