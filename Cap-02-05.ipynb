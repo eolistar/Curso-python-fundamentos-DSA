{
 "cells": [
  {
   "cell_type": "markdown",
   "id": "f484906c",
   "metadata": {},
   "source": [
    "# Aula sobre Dicionários"
   ]
  },
  {
   "cell_type": "code",
   "execution_count": 1,
   "id": "9d38081a",
   "metadata": {},
   "outputs": [],
   "source": [
    "#Isso é uma lista\n",
    "estudantes_lst = [\"Fernando\", 24, \"Pedro\", 26, \"Flavia\", 19, \"Ana\", 30]"
   ]
  },
  {
   "cell_type": "code",
   "execution_count": 2,
   "id": "f489f146",
   "metadata": {},
   "outputs": [
    {
     "data": {
      "text/plain": [
       "['Fernando', 24, 'Pedro', 26, 'Flavia', 19, 'Ana', 30]"
      ]
     },
     "execution_count": 2,
     "metadata": {},
     "output_type": "execute_result"
    }
   ],
   "source": [
    "estudantes_lst"
   ]
  },
  {
   "cell_type": "code",
   "execution_count": 4,
   "id": "7f2e768c",
   "metadata": {},
   "outputs": [],
   "source": [
    "#Isso é um dicionário\n",
    "estudantes_dict = {\"Fernando\" : 24, \"Pedro\" : 26, \"Flavia\" : 19, \"Ana\" : 30}"
   ]
  },
  {
   "cell_type": "code",
   "execution_count": 5,
   "id": "e96f1580",
   "metadata": {},
   "outputs": [
    {
     "data": {
      "text/plain": [
       "{'Fernando': 24, 'Pedro': 26, 'Flavia': 19, 'Ana': 30}"
      ]
     },
     "execution_count": 5,
     "metadata": {},
     "output_type": "execute_result"
    }
   ],
   "source": [
    "estudantes_dict"
   ]
  },
  {
   "cell_type": "code",
   "execution_count": 9,
   "id": "cf104a68",
   "metadata": {},
   "outputs": [
    {
     "data": {
      "text/plain": [
       "24"
      ]
     },
     "execution_count": 9,
     "metadata": {},
     "output_type": "execute_result"
    }
   ],
   "source": [
    "#Podemos exibir o valor atrelado a variável\n",
    "estudantes_dict[\"Fernando\"]"
   ]
  },
  {
   "cell_type": "code",
   "execution_count": 10,
   "id": "0aa23baa",
   "metadata": {},
   "outputs": [],
   "source": [
    "#Podemos adicionar um novo item ao dicionário\n",
    "estudantes_dict[\"Arthur\"] = 27"
   ]
  },
  {
   "cell_type": "code",
   "execution_count": 11,
   "id": "1c1444bb",
   "metadata": {},
   "outputs": [
    {
     "data": {
      "text/plain": [
       "{'Fernando': 24, 'Pedro': 26, 'Flavia': 19, 'Ana': 30, 'Arthur': 27}"
      ]
     },
     "execution_count": 11,
     "metadata": {},
     "output_type": "execute_result"
    }
   ],
   "source": [
    "estudantes_dict"
   ]
  },
  {
   "cell_type": "code",
   "execution_count": 14,
   "id": "10112c2e",
   "metadata": {},
   "outputs": [],
   "source": [
    "#Usando o comando clear para apagar todos os itens do dicionário\n",
    "estudantes_dict.clear()"
   ]
  },
  {
   "cell_type": "code",
   "execution_count": 15,
   "id": "80c6e615",
   "metadata": {},
   "outputs": [
    {
     "data": {
      "text/plain": [
       "{}"
      ]
     },
     "execution_count": 15,
     "metadata": {},
     "output_type": "execute_result"
    }
   ],
   "source": [
    "estudantes_dict"
   ]
  },
  {
   "cell_type": "code",
   "execution_count": 19,
   "id": "9b10ec02",
   "metadata": {},
   "outputs": [
    {
     "ename": "NameError",
     "evalue": "name 'estudantes_dict' is not defined",
     "output_type": "error",
     "traceback": [
      "\u001b[1;31m---------------------------------------------------------------------------\u001b[0m",
      "\u001b[1;31mNameError\u001b[0m                                 Traceback (most recent call last)",
      "\u001b[1;32m~\\AppData\\Local\\Temp/ipykernel_10024/335562171.py\u001b[0m in \u001b[0;36m<module>\u001b[1;34m\u001b[0m\n\u001b[0;32m      1\u001b[0m \u001b[1;31m#Apagamos o dicionário\u001b[0m\u001b[1;33m\u001b[0m\u001b[1;33m\u001b[0m\u001b[0m\n\u001b[1;32m----> 2\u001b[1;33m \u001b[1;32mdel\u001b[0m \u001b[0mestudantes_dict\u001b[0m\u001b[1;33m\u001b[0m\u001b[1;33m\u001b[0m\u001b[0m\n\u001b[0m",
      "\u001b[1;31mNameError\u001b[0m: name 'estudantes_dict' is not defined"
     ]
    }
   ],
   "source": [
    "#Apagamos o dicionário\n",
    "del estudantes_dict"
   ]
  },
  {
   "cell_type": "code",
   "execution_count": 20,
   "id": "da76774e",
   "metadata": {},
   "outputs": [
    {
     "ename": "NameError",
     "evalue": "name 'estudantes_dict' is not defined",
     "output_type": "error",
     "traceback": [
      "\u001b[1;31m---------------------------------------------------------------------------\u001b[0m",
      "\u001b[1;31mNameError\u001b[0m                                 Traceback (most recent call last)",
      "\u001b[1;32m~\\AppData\\Local\\Temp/ipykernel_10024/1634695477.py\u001b[0m in \u001b[0;36m<module>\u001b[1;34m\u001b[0m\n\u001b[1;32m----> 1\u001b[1;33m \u001b[0mestudantes_dict\u001b[0m\u001b[1;33m\u001b[0m\u001b[1;33m\u001b[0m\u001b[0m\n\u001b[0m",
      "\u001b[1;31mNameError\u001b[0m: name 'estudantes_dict' is not defined"
     ]
    }
   ],
   "source": [
    "estudantes_dict"
   ]
  },
  {
   "cell_type": "code",
   "execution_count": 22,
   "id": "58f6b438",
   "metadata": {},
   "outputs": [],
   "source": [
    "estudantes = {\"Fernando\" : 24, \"Pedro\" : 26, \"Flavia\" : 19, \"Ana\" : 30}"
   ]
  },
  {
   "cell_type": "code",
   "execution_count": 23,
   "id": "49759b29",
   "metadata": {},
   "outputs": [
    {
     "data": {
      "text/plain": [
       "{'Fernando': 24, 'Pedro': 26, 'Flavia': 19, 'Ana': 30}"
      ]
     },
     "execution_count": 23,
     "metadata": {},
     "output_type": "execute_result"
    }
   ],
   "source": [
    "estudantes"
   ]
  },
  {
   "cell_type": "code",
   "execution_count": 26,
   "id": "1937a691",
   "metadata": {},
   "outputs": [
    {
     "data": {
      "text/plain": [
       "4"
      ]
     },
     "execution_count": 26,
     "metadata": {},
     "output_type": "execute_result"
    }
   ],
   "source": [
    "#Quantidade de itens do dicionário\n",
    "len(estudantes)"
   ]
  },
  {
   "cell_type": "code",
   "execution_count": 28,
   "id": "aef0f14b",
   "metadata": {},
   "outputs": [
    {
     "data": {
      "text/plain": [
       "dict_keys(['Fernando', 'Pedro', 'Flavia', 'Ana'])"
      ]
     },
     "execution_count": 28,
     "metadata": {},
     "output_type": "execute_result"
    }
   ],
   "source": [
    "#Mostra as \"chaves\" do dicionário\n",
    "estudantes.keys()"
   ]
  },
  {
   "cell_type": "code",
   "execution_count": 29,
   "id": "7629ee54",
   "metadata": {},
   "outputs": [
    {
     "data": {
      "text/plain": [
       "dict_values([24, 26, 19, 30])"
      ]
     },
     "execution_count": 29,
     "metadata": {},
     "output_type": "execute_result"
    }
   ],
   "source": [
    "#Mostra os valores atribuídos \n",
    "estudantes.values()"
   ]
  },
  {
   "cell_type": "code",
   "execution_count": 30,
   "id": "b5295df5",
   "metadata": {},
   "outputs": [
    {
     "data": {
      "text/plain": [
       "dict_items([('Fernando', 24), ('Pedro', 26), ('Flavia', 19), ('Ana', 30)])"
      ]
     },
     "execution_count": 30,
     "metadata": {},
     "output_type": "execute_result"
    }
   ],
   "source": [
    "#Mostra os itens e valores do dicionário\n",
    "estudantes.items()"
   ]
  },
  {
   "cell_type": "code",
   "execution_count": 31,
   "id": "fee5c721",
   "metadata": {},
   "outputs": [],
   "source": [
    "estudantes2 = {\"Maria\":27, \"Erika\":28, \"Milton\":26}"
   ]
  },
  {
   "cell_type": "code",
   "execution_count": 32,
   "id": "2b4a4325",
   "metadata": {},
   "outputs": [
    {
     "data": {
      "text/plain": [
       "{'Maria': 27, 'Erika': 28, 'Milton': 26}"
      ]
     },
     "execution_count": 32,
     "metadata": {},
     "output_type": "execute_result"
    }
   ],
   "source": [
    "estudantes2"
   ]
  },
  {
   "cell_type": "code",
   "execution_count": 37,
   "id": "f9b2d8bb",
   "metadata": {},
   "outputs": [],
   "source": [
    "#Concatenando os dicionários usando o método update\n",
    "estudantes.update(estudantes2)"
   ]
  },
  {
   "cell_type": "code",
   "execution_count": 34,
   "id": "f4bf2f7c",
   "metadata": {},
   "outputs": [
    {
     "data": {
      "text/plain": [
       "{'Fernando': 24,\n",
       " 'Pedro': 26,\n",
       " 'Flavia': 19,\n",
       " 'Ana': 30,\n",
       " 'Maria': 27,\n",
       " 'Erika': 28,\n",
       " 'Milton': 26}"
      ]
     },
     "execution_count": 34,
     "metadata": {},
     "output_type": "execute_result"
    }
   ],
   "source": [
    "estudantes"
   ]
  },
  {
   "cell_type": "code",
   "execution_count": 1,
   "id": "6698a440",
   "metadata": {},
   "outputs": [],
   "source": [
    "#Criando um dicionário vazio\n",
    "dic1 = {}"
   ]
  },
  {
   "cell_type": "code",
   "execution_count": 2,
   "id": "38c807f5",
   "metadata": {},
   "outputs": [
    {
     "data": {
      "text/plain": [
       "{}"
      ]
     },
     "execution_count": 2,
     "metadata": {},
     "output_type": "execute_result"
    }
   ],
   "source": [
    "dic1"
   ]
  },
  {
   "cell_type": "code",
   "execution_count": 9,
   "id": "9d3aeced",
   "metadata": {},
   "outputs": [],
   "source": [
    "#Adicionando itens ao dicionário\n",
    "dic1[\"Chave_1\"] = 10"
   ]
  },
  {
   "cell_type": "code",
   "execution_count": 10,
   "id": "ab06f1b5",
   "metadata": {},
   "outputs": [
    {
     "name": "stdout",
     "output_type": "stream",
     "text": [
      "{'Chave_1': 10, 2: 20}\n"
     ]
    }
   ],
   "source": [
    "print(dic1)"
   ]
  },
  {
   "cell_type": "code",
   "execution_count": 13,
   "id": "b5cd8e38",
   "metadata": {},
   "outputs": [],
   "source": [
    "#Como podemos ver podemos adicionar qualquer tipo de dado ao dicionário\n",
    "dic1[2] = 2.5"
   ]
  },
  {
   "cell_type": "code",
   "execution_count": 14,
   "id": "f01882c8",
   "metadata": {},
   "outputs": [
    {
     "data": {
      "text/plain": [
       "{'Chave_1': 10, 2: 2.5}"
      ]
     },
     "execution_count": 14,
     "metadata": {},
     "output_type": "execute_result"
    }
   ],
   "source": [
    "dic1"
   ]
  },
  {
   "cell_type": "code",
   "execution_count": 17,
   "id": "744f919d",
   "metadata": {},
   "outputs": [],
   "source": [
    "dict1 = {}"
   ]
  },
  {
   "cell_type": "code",
   "execution_count": 18,
   "id": "e191e3b1",
   "metadata": {},
   "outputs": [
    {
     "data": {
      "text/plain": [
       "{}"
      ]
     },
     "execution_count": 18,
     "metadata": {},
     "output_type": "execute_result"
    }
   ],
   "source": [
    "dict1"
   ]
  },
  {
   "cell_type": "code",
   "execution_count": 20,
   "id": "e5fd8ddc",
   "metadata": {},
   "outputs": [],
   "source": [
    "dict1[\"Chave1\"] = \"Atribuindo\""
   ]
  },
  {
   "cell_type": "code",
   "execution_count": 21,
   "id": "460fb08c",
   "metadata": {},
   "outputs": [],
   "source": [
    "dict1[\"Chave2\"] = \"à variáveis\""
   ]
  },
  {
   "cell_type": "code",
   "execution_count": 22,
   "id": "53baf3b0",
   "metadata": {},
   "outputs": [],
   "source": [
    "dict1[\"Chave3\"] = \"valores do dicionário\""
   ]
  },
  {
   "cell_type": "code",
   "execution_count": 23,
   "id": "09b456b7",
   "metadata": {},
   "outputs": [],
   "source": [
    "a = dict1[\"Chave1\"]"
   ]
  },
  {
   "cell_type": "code",
   "execution_count": 24,
   "id": "ff461e38",
   "metadata": {},
   "outputs": [],
   "source": [
    "b = dict1[\"Chave2\"]"
   ]
  },
  {
   "cell_type": "code",
   "execution_count": 25,
   "id": "f554405b",
   "metadata": {},
   "outputs": [],
   "source": [
    "c = dict1[\"Chave3\"]"
   ]
  },
  {
   "cell_type": "code",
   "execution_count": 27,
   "id": "1fb23789",
   "metadata": {},
   "outputs": [
    {
     "data": {
      "text/plain": [
       "('Atribuindo', 'à variáveis', 'valores do dicionário')"
      ]
     },
     "execution_count": 27,
     "metadata": {},
     "output_type": "execute_result"
    }
   ],
   "source": [
    "a, b, c"
   ]
  },
  {
   "cell_type": "code",
   "execution_count": 28,
   "id": "ae6f7fd9",
   "metadata": {},
   "outputs": [],
   "source": [
    "#Podemos colocar listas dentro dos dicionários\n",
    "dict2 = {\"Valor1\" : 1234, \"Lista1\" : [48, 51, 54], \"Lista2\" : ['Item1', 'Item2', 'Item3']}"
   ]
  },
  {
   "cell_type": "code",
   "execution_count": 29,
   "id": "c488c1c2",
   "metadata": {},
   "outputs": [
    {
     "data": {
      "text/plain": [
       "{'Valor1': 1234, 'Lista1': [48, 51, 54], 'Lista2': ['Item1', 'Item2', 'Item3']}"
      ]
     },
     "execution_count": 29,
     "metadata": {},
     "output_type": "execute_result"
    }
   ],
   "source": [
    "dict2"
   ]
  },
  {
   "cell_type": "code",
   "execution_count": 34,
   "id": "277982e4",
   "metadata": {},
   "outputs": [
    {
     "data": {
      "text/plain": [
       "'ITEM2'"
      ]
     },
     "execution_count": 34,
     "metadata": {},
     "output_type": "execute_result"
    }
   ],
   "source": [
    "#Acessando um item da lista no dicionário, ainda podemos manipular esses dados antes de exibir\n",
    "dict2[\"Lista2\"][1].upper()"
   ]
  },
  {
   "cell_type": "code",
   "execution_count": 35,
   "id": "a4f5bd15",
   "metadata": {},
   "outputs": [],
   "source": [
    "# Duas operações no mesmo comando, para atualizar um item dentro da lista\n",
    "dict2['Lista1'][0] -= 8"
   ]
  },
  {
   "cell_type": "code",
   "execution_count": 36,
   "id": "00cdcf17",
   "metadata": {},
   "outputs": [
    {
     "data": {
      "text/plain": [
       "{'Valor1': 1234, 'Lista1': [40, 51, 54], 'Lista2': ['Item1', 'Item2', 'Item3']}"
      ]
     },
     "execution_count": 36,
     "metadata": {},
     "output_type": "execute_result"
    }
   ],
   "source": [
    "dict2"
   ]
  },
  {
   "cell_type": "code",
   "execution_count": 37,
   "id": "84e6c3be",
   "metadata": {},
   "outputs": [],
   "source": [
    "# Dicionários aninhados\n",
    "dict_aninhado = {'Chave1':{'Chave2_aninhada':{'Chave3_aninhada':'Dict aninhado em Python'}}}"
   ]
  },
  {
   "cell_type": "code",
   "execution_count": 38,
   "id": "32e6680b",
   "metadata": {},
   "outputs": [
    {
     "data": {
      "text/plain": [
       "{'Chave1': {'Chave2_aninhada': {'Chave3_aninhada': 'Dict aninhado em Python'}}}"
      ]
     },
     "execution_count": 38,
     "metadata": {},
     "output_type": "execute_result"
    }
   ],
   "source": [
    "dict_aninhado"
   ]
  },
  {
   "cell_type": "code",
   "execution_count": 39,
   "id": "bd03147a",
   "metadata": {},
   "outputs": [
    {
     "data": {
      "text/plain": [
       "'Dict aninhado em Python'"
      ]
     },
     "execution_count": 39,
     "metadata": {},
     "output_type": "execute_result"
    }
   ],
   "source": [
    "dict_aninhado[\"Chave1\"][\"Chave2_aninhada\"][\"Chave3_aninhada\"]"
   ]
  }
 ],
 "metadata": {
  "kernelspec": {
   "display_name": "Python 3 (ipykernel)",
   "language": "python",
   "name": "python3"
  },
  "language_info": {
   "codemirror_mode": {
    "name": "ipython",
    "version": 3
   },
   "file_extension": ".py",
   "mimetype": "text/x-python",
   "name": "python",
   "nbconvert_exporter": "python",
   "pygments_lexer": "ipython3",
   "version": "3.9.7"
  }
 },
 "nbformat": 4,
 "nbformat_minor": 5
}
