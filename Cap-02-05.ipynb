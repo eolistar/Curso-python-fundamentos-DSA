{
 "cells": [
  {
   "cell_type": "markdown",
   "id": "f484906c",
   "metadata": {},
   "source": [
    "# Aula sobre Dicionários"
   ]
  },
  {
   "cell_type": "code",
   "execution_count": 1,
   "id": "9d38081a",
   "metadata": {},
   "outputs": [],
   "source": [
    "#Isso é uma lista\n",
    "estudantes_lst = [\"Fernando\", 24, \"Pedro\", 26, \"Flavia\", 19, \"Ana\", 30]"
   ]
  },
  {
   "cell_type": "code",
   "execution_count": 2,
   "id": "f489f146",
   "metadata": {},
   "outputs": [
    {
     "data": {
      "text/plain": [
       "['Fernando', 24, 'Pedro', 26, 'Flavia', 19, 'Ana', 30]"
      ]
     },
     "execution_count": 2,
     "metadata": {},
     "output_type": "execute_result"
    }
   ],
   "source": [
    "estudantes_lst"
   ]
  },
  {
   "cell_type": "code",
   "execution_count": 4,
   "id": "7f2e768c",
   "metadata": {},
   "outputs": [],
   "source": [
    "#Isso é um dicionário\n",
    "estudantes_dict = {\"Fernando\" : 24, \"Pedro\" : 26, \"Flavia\" : 19, \"Ana\" : 30}"
   ]
  },
  {
   "cell_type": "code",
   "execution_count": 5,
   "id": "e96f1580",
   "metadata": {},
   "outputs": [
    {
     "data": {
      "text/plain": [
       "{'Fernando': 24, 'Pedro': 26, 'Flavia': 19, 'Ana': 30}"
      ]
     },
     "execution_count": 5,
     "metadata": {},
     "output_type": "execute_result"
    }
   ],
   "source": [
    "estudantes_dict"
   ]
  },
  {
   "cell_type": "code",
   "execution_count": 9,
   "id": "cf104a68",
   "metadata": {},
   "outputs": [
    {
     "data": {
      "text/plain": [
       "24"
      ]
     },
     "execution_count": 9,
     "metadata": {},
     "output_type": "execute_result"
    }
   ],
   "source": [
    "#Podemos exibir o valor atrelado a variável\n",
    "estudantes_dict[\"Fernando\"]"
   ]
  },
  {
   "cell_type": "code",
   "execution_count": 10,
   "id": "0aa23baa",
   "metadata": {},
   "outputs": [],
   "source": [
    "#Podemos adicionar um novo item ao dicionário\n",
    "estudantes_dict[\"Arthur\"] = 27"
   ]
  },
  {
   "cell_type": "code",
   "execution_count": 11,
   "id": "1c1444bb",
   "metadata": {},
   "outputs": [
    {
     "data": {
      "text/plain": [
       "{'Fernando': 24, 'Pedro': 26, 'Flavia': 19, 'Ana': 30, 'Arthur': 27}"
      ]
     },
     "execution_count": 11,
     "metadata": {},
     "output_type": "execute_result"
    }
   ],
   "source": [
    "estudantes_dict"
   ]
  },
  {
   "cell_type": "code",
   "execution_count": 14,
   "id": "10112c2e",
   "metadata": {},
   "outputs": [],
   "source": [
    "#Usando o comando clear para apagar todos os itens do dicionário\n",
    "estudantes_dict.clear()"
   ]
  },
  {
   "cell_type": "code",
   "execution_count": 15,
   "id": "80c6e615",
   "metadata": {},
   "outputs": [
    {
     "data": {
      "text/plain": [
       "{}"
      ]
     },
     "execution_count": 15,
     "metadata": {},
     "output_type": "execute_result"
    }
   ],
   "source": [
    "estudantes_dict"
   ]
  },
  {
   "cell_type": "code",
   "execution_count": 19,
   "id": "9b10ec02",
   "metadata": {},
   "outputs": [
    {
     "ename": "NameError",
     "evalue": "name 'estudantes_dict' is not defined",
     "output_type": "error",
     "traceback": [
      "\u001b[1;31m---------------------------------------------------------------------------\u001b[0m",
      "\u001b[1;31mNameError\u001b[0m                                 Traceback (most recent call last)",
      "\u001b[1;32m~\\AppData\\Local\\Temp/ipykernel_10024/335562171.py\u001b[0m in \u001b[0;36m<module>\u001b[1;34m\u001b[0m\n\u001b[0;32m      1\u001b[0m \u001b[1;31m#Apagamos o dicionário\u001b[0m\u001b[1;33m\u001b[0m\u001b[1;33m\u001b[0m\u001b[0m\n\u001b[1;32m----> 2\u001b[1;33m \u001b[1;32mdel\u001b[0m \u001b[0mestudantes_dict\u001b[0m\u001b[1;33m\u001b[0m\u001b[1;33m\u001b[0m\u001b[0m\n\u001b[0m",
      "\u001b[1;31mNameError\u001b[0m: name 'estudantes_dict' is not defined"
     ]
    }
   ],
   "source": [
    "#Apagamos o dicionário\n",
    "del estudantes_dict"
   ]
  },
  {
   "cell_type": "code",
   "execution_count": 20,
   "id": "da76774e",
   "metadata": {},
   "outputs": [
    {
     "ename": "NameError",
     "evalue": "name 'estudantes_dict' is not defined",
     "output_type": "error",
     "traceback": [
      "\u001b[1;31m---------------------------------------------------------------------------\u001b[0m",
      "\u001b[1;31mNameError\u001b[0m                                 Traceback (most recent call last)",
      "\u001b[1;32m~\\AppData\\Local\\Temp/ipykernel_10024/1634695477.py\u001b[0m in \u001b[0;36m<module>\u001b[1;34m\u001b[0m\n\u001b[1;32m----> 1\u001b[1;33m \u001b[0mestudantes_dict\u001b[0m\u001b[1;33m\u001b[0m\u001b[1;33m\u001b[0m\u001b[0m\n\u001b[0m",
      "\u001b[1;31mNameError\u001b[0m: name 'estudantes_dict' is not defined"
     ]
    }
   ],
   "source": [
    "estudantes_dict"
   ]
  },
  {
   "cell_type": "code",
   "execution_count": 22,
   "id": "58f6b438",
   "metadata": {},
   "outputs": [],
   "source": [
    "estudantes = {\"Fernando\" : 24, \"Pedro\" : 26, \"Flavia\" : 19, \"Ana\" : 30}"
   ]
  },
  {
   "cell_type": "code",
   "execution_count": 23,
   "id": "49759b29",
   "metadata": {},
   "outputs": [
    {
     "data": {
      "text/plain": [
       "{'Fernando': 24, 'Pedro': 26, 'Flavia': 19, 'Ana': 30}"
      ]
     },
     "execution_count": 23,
     "metadata": {},
     "output_type": "execute_result"
    }
   ],
   "source": [
    "estudantes"
   ]
  },
  {
   "cell_type": "code",
   "execution_count": 26,
   "id": "1937a691",
   "metadata": {},
   "outputs": [
    {
     "data": {
      "text/plain": [
       "4"
      ]
     },
     "execution_count": 26,
     "metadata": {},
     "output_type": "execute_result"
    }
   ],
   "source": [
    "#Quantidade de itens do dicionário\n",
    "len(estudantes)"
   ]
  },
  {
   "cell_type": "code",
   "execution_count": 28,
   "id": "aef0f14b",
   "metadata": {},
   "outputs": [
    {
     "data": {
      "text/plain": [
       "dict_keys(['Fernando', 'Pedro', 'Flavia', 'Ana'])"
      ]
     },
     "execution_count": 28,
     "metadata": {},
     "output_type": "execute_result"
    }
   ],
   "source": [
    "#Mostra as \"chaves\" (itens) do dicionário\n",
    "estudantes.keys()"
   ]
  },
  {
   "cell_type": "code",
   "execution_count": 29,
   "id": "7629ee54",
   "metadata": {},
   "outputs": [
    {
     "data": {
      "text/plain": [
       "dict_values([24, 26, 19, 30])"
      ]
     },
     "execution_count": 29,
     "metadata": {},
     "output_type": "execute_result"
    }
   ],
   "source": [
    "#Mostra os valores atribuídos \n",
    "estudantes.values()"
   ]
  },
  {
   "cell_type": "code",
   "execution_count": 30,
   "id": "b5295df5",
   "metadata": {},
   "outputs": [
    {
     "data": {
      "text/plain": [
       "dict_items([('Fernando', 24), ('Pedro', 26), ('Flavia', 19), ('Ana', 30)])"
      ]
     },
     "execution_count": 30,
     "metadata": {},
     "output_type": "execute_result"
    }
   ],
   "source": [
    "#Mostra os itens e valores do dicionário\n",
    "estudantes.items()"
   ]
  },
  {
   "cell_type": "code",
   "execution_count": 31,
   "id": "fee5c721",
   "metadata": {},
   "outputs": [],
   "source": [
    "estudantes2 = {\"Maria\":27, \"Erika\":28, \"Milton\":26}"
   ]
  },
  {
   "cell_type": "code",
   "execution_count": 32,
   "id": "2b4a4325",
   "metadata": {},
   "outputs": [
    {
     "data": {
      "text/plain": [
       "{'Maria': 27, 'Erika': 28, 'Milton': 26}"
      ]
     },
     "execution_count": 32,
     "metadata": {},
     "output_type": "execute_result"
    }
   ],
   "source": [
    "estudantes2"
   ]
  },
  {
   "cell_type": "code",
   "execution_count": 37,
   "id": "f9b2d8bb",
   "metadata": {},
   "outputs": [],
   "source": [
    "#Concatenando os dicionários usando o método update\n",
    "estudantes.update(estudantes2)"
   ]
  },
  {
   "cell_type": "code",
   "execution_count": 34,
   "id": "f4bf2f7c",
   "metadata": {},
   "outputs": [
    {
     "data": {
      "text/plain": [
       "{'Fernando': 24,\n",
       " 'Pedro': 26,\n",
       " 'Flavia': 19,\n",
       " 'Ana': 30,\n",
       " 'Maria': 27,\n",
       " 'Erika': 28,\n",
       " 'Milton': 26}"
      ]
     },
     "execution_count": 34,
     "metadata": {},
     "output_type": "execute_result"
    }
   ],
   "source": [
    "estudantes"
   ]
  },
  {
   "cell_type": "code",
   "execution_count": null,
   "id": "6698a440",
   "metadata": {},
   "outputs": [],
   "source": []
  }
 ],
 "metadata": {
  "kernelspec": {
   "display_name": "Python 3 (ipykernel)",
   "language": "python",
   "name": "python3"
  },
  "language_info": {
   "codemirror_mode": {
    "name": "ipython",
    "version": 3
   },
   "file_extension": ".py",
   "mimetype": "text/x-python",
   "name": "python",
   "nbconvert_exporter": "python",
   "pygments_lexer": "ipython3",
   "version": "3.9.7"
  }
 },
 "nbformat": 4,
 "nbformat_minor": 5
}
