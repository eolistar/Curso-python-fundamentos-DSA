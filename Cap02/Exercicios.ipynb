{
 "cells": [
  {
   "cell_type": "markdown",
   "id": "73294e79",
   "metadata": {},
   "source": [
    "# Exercícios"
   ]
  },
  {
   "cell_type": "markdown",
   "id": "07e64e70",
   "metadata": {},
   "source": [
    "## Minha resolução dos exercícios propostos pelo curso referentes ao capítulo 2"
   ]
  },
  {
   "cell_type": "markdown",
   "id": "3658f27d",
   "metadata": {},
   "source": [
    "## <font color='blue'> 1 </font>"
   ]
  },
  {
   "cell_type": "code",
   "execution_count": null,
   "id": "15178811",
   "metadata": {},
   "outputs": [],
   "source": [
    "# Exercício 1 - Imprima na tela os números de 1 a 10. Use uma lista para armazenar os números."
   ]
  },
  {
   "cell_type": "code",
   "execution_count": 1,
   "id": "b94232f6",
   "metadata": {},
   "outputs": [
    {
     "name": "stdout",
     "output_type": "stream",
     "text": [
      "[1, 2, 3, 4, 5, 6, 7, 8, 9, 10]\n"
     ]
    }
   ],
   "source": [
    "Lista_de_números = [1 , 2 , 3 , 4 , 5 , 6 , 7 , 8 , 9 , 10]\n",
    "print(Lista_de_números)"
   ]
  },
  {
   "cell_type": "markdown",
   "id": "bad87641",
   "metadata": {},
   "source": [
    "## <font color='blue'> 2 </font>"
   ]
  },
  {
   "cell_type": "code",
   "execution_count": null,
   "id": "c0a96d9f",
   "metadata": {},
   "outputs": [],
   "source": [
    "# Exercício 2 - Crie uma lista de 5 objetos e imprima na tela"
   ]
  },
  {
   "cell_type": "code",
   "execution_count": 5,
   "id": "4321b076",
   "metadata": {},
   "outputs": [],
   "source": [
    "Lista_de_objetos = ['Pedra' , 'Garrafa' , 'Computador' , 'Tijolo' , 'Celular']"
   ]
  },
  {
   "cell_type": "code",
   "execution_count": 6,
   "id": "68e50d1e",
   "metadata": {},
   "outputs": [
    {
     "name": "stdout",
     "output_type": "stream",
     "text": [
      "['Pedra', 'Garrafa', 'Computador', 'Tijolo', 'Celular']\n"
     ]
    }
   ],
   "source": [
    "print(Lista_de_objetos)"
   ]
  },
  {
   "cell_type": "markdown",
   "id": "bbb0a372",
   "metadata": {},
   "source": [
    "## <font color = 'blue'> 3 </font>"
   ]
  },
  {
   "cell_type": "code",
   "execution_count": null,
   "id": "336fea35",
   "metadata": {},
   "outputs": [],
   "source": [
    "# Exercício 3 - Crie duas strings e concatene as duas em uma terceira string"
   ]
  },
  {
   "cell_type": "code",
   "execution_count": 9,
   "id": "03ddf3e0",
   "metadata": {},
   "outputs": [
    {
     "name": "stdout",
     "output_type": "stream",
     "text": [
      "Concatenando\n"
     ]
    }
   ],
   "source": [
    "a = \"Conca\"\n",
    "b = \"tenando\"\n",
    "c = a + b\n",
    "print(c)"
   ]
  },
  {
   "cell_type": "markdown",
   "id": "261ac67b",
   "metadata": {},
   "source": [
    "## <font color = 'blue'> 4 </font>"
   ]
  },
  {
   "cell_type": "code",
   "execution_count": null,
   "id": "0ebd2698",
   "metadata": {},
   "outputs": [],
   "source": [
    "# Exercício 4 - Crie uma tupla com os seguintes elementos: 1, 2, 2, 3, 4, 4, 4, 5 e depois utilize a função count do \n",
    "# objeto tupla para verificar quantas vezes o número 4 aparece na tupla"
   ]
  },
  {
   "cell_type": "code",
   "execution_count": 10,
   "id": "36dba1fa",
   "metadata": {},
   "outputs": [],
   "source": [
    "tupla1 = (1 , 2 , 2 , 3 , 4 , 4 , 4 , 5)"
   ]
  },
  {
   "cell_type": "code",
   "execution_count": 13,
   "id": "3ef356bb",
   "metadata": {},
   "outputs": [
    {
     "data": {
      "text/plain": [
       "3"
      ]
     },
     "execution_count": 13,
     "metadata": {},
     "output_type": "execute_result"
    }
   ],
   "source": [
    "#O número 4 aparece 3 vezes\n",
    "tupla1.count(4)"
   ]
  },
  {
   "cell_type": "markdown",
   "id": "b2592df6",
   "metadata": {},
   "source": [
    "## <font color = 'blue'> 5 </font>"
   ]
  },
  {
   "cell_type": "code",
   "execution_count": 14,
   "id": "0253d3db",
   "metadata": {},
   "outputs": [],
   "source": [
    "# Exercício 5 - Crie um dicionário vazio e imprima na tela"
   ]
  },
  {
   "cell_type": "code",
   "execution_count": 15,
   "id": "d33313fa",
   "metadata": {},
   "outputs": [],
   "source": [
    "dict1 = {}"
   ]
  },
  {
   "cell_type": "code",
   "execution_count": 16,
   "id": "2f175242",
   "metadata": {},
   "outputs": [
    {
     "name": "stdout",
     "output_type": "stream",
     "text": [
      "{}\n"
     ]
    }
   ],
   "source": [
    "print(dict1)"
   ]
  },
  {
   "cell_type": "markdown",
   "id": "47f45a3c",
   "metadata": {},
   "source": [
    "## <font color='blue'> 6 </font>"
   ]
  },
  {
   "cell_type": "code",
   "execution_count": 17,
   "id": "52c74e20",
   "metadata": {},
   "outputs": [],
   "source": [
    "# Exercício 6 - Crie um dicionário com 3 chaves e 3 valores e imprima na tela"
   ]
  },
  {
   "cell_type": "code",
   "execution_count": 20,
   "id": "9e5c5ba0",
   "metadata": {},
   "outputs": [],
   "source": [
    "dict1 = {\"Chave1\" : \"Valor1\", \"Chave2\" : \"Valor2\", \"Chave3\" : \"Valor3\"}"
   ]
  },
  {
   "cell_type": "code",
   "execution_count": 21,
   "id": "bc2f6f40",
   "metadata": {},
   "outputs": [
    {
     "name": "stdout",
     "output_type": "stream",
     "text": [
      "{'Chave1': 'Valor1', 'Chave2': 'Valor2', 'Chave3': 'Valor3'}\n"
     ]
    }
   ],
   "source": [
    "print(dict1)"
   ]
  },
  {
   "cell_type": "markdown",
   "id": "2a9690fa",
   "metadata": {},
   "source": [
    "## <font color='blue'> 7 </font>"
   ]
  },
  {
   "cell_type": "code",
   "execution_count": 22,
   "id": "198ebc1c",
   "metadata": {},
   "outputs": [],
   "source": [
    "# Exercício 7 - Adicione mais um elemento ao dicionário criado no exercício anterior e imprima na tela"
   ]
  },
  {
   "cell_type": "code",
   "execution_count": 24,
   "id": "b9ac3183",
   "metadata": {},
   "outputs": [],
   "source": [
    "dict1[\"Chave4\"] = \"Valor4\""
   ]
  },
  {
   "cell_type": "code",
   "execution_count": 26,
   "id": "43c4df27",
   "metadata": {},
   "outputs": [
    {
     "name": "stdout",
     "output_type": "stream",
     "text": [
      "{'Chave1': 'Valor1', 'Chave2': 'Valor2', 'Chave3': 'Valor3', 'Chave4': 'Valor4'}\n"
     ]
    }
   ],
   "source": [
    "print(dict1)"
   ]
  },
  {
   "cell_type": "markdown",
   "id": "a0ce5a33",
   "metadata": {},
   "source": [
    "## <font color='blue'> 8 </font>"
   ]
  },
  {
   "cell_type": "code",
   "execution_count": 1,
   "id": "0b92ac44",
   "metadata": {},
   "outputs": [],
   "source": [
    "# Exercício 8 - Crie um dicionário com 3 chaves e 3 valores. Um dos valores deve ser uma lista de 2 elementos numéricos. \n",
    "# Imprima o dicionário na tela."
   ]
  },
  {
   "cell_type": "code",
   "execution_count": 2,
   "id": "f34974d8",
   "metadata": {},
   "outputs": [],
   "source": [
    "dict2 = {\"Chave1\" : [18 , 42] , \"Chave2\" : \"Ciências\" , \"Chave3\" : \"Matemática\"}"
   ]
  },
  {
   "cell_type": "code",
   "execution_count": 3,
   "id": "07ff8c45",
   "metadata": {},
   "outputs": [
    {
     "name": "stdout",
     "output_type": "stream",
     "text": [
      "{'Chave1': [18, 42], 'Chave2': 'Ciências', 'Chave3': 'Matemática'}\n"
     ]
    }
   ],
   "source": [
    "print(dict2)"
   ]
  },
  {
   "cell_type": "markdown",
   "id": "a6f869f3",
   "metadata": {},
   "source": [
    "## <font color=\"blue\"> 9 </font>\n"
   ]
  },
  {
   "cell_type": "code",
   "execution_count": 4,
   "id": "6b70c574",
   "metadata": {},
   "outputs": [],
   "source": [
    "# Exercício 9 - Crie uma lista de 4 elementos. O primeiro elemento deve ser uma string, \n",
    "# o segundo uma tupla de 2 elementos, o terceiro um dcionário com 2 chaves e 2 valores e \n",
    "# o quarto elemento um valor do tipo float.\n",
    "# Imprima a lista na tela."
   ]
  },
  {
   "cell_type": "code",
   "execution_count": 5,
   "id": "a6f3cd3a",
   "metadata": {},
   "outputs": [],
   "source": [
    "lista1 = [\"Elemento1\" , (\"elemento2\" , 2) , {\"Chave1\" : \"Valor1\" , \"Chave2\" : \"Valor2\"} , 20.85]"
   ]
  },
  {
   "cell_type": "code",
   "execution_count": 6,
   "id": "12a46732",
   "metadata": {},
   "outputs": [
    {
     "name": "stdout",
     "output_type": "stream",
     "text": [
      "['Elemento1', ('elemento2', 2), {'Chave1': 'Valor1', 'Chave2': 'Valor2'}, 20.85]\n"
     ]
    }
   ],
   "source": [
    "print(lista1)"
   ]
  },
  {
   "cell_type": "markdown",
   "id": "c5bdea20",
   "metadata": {},
   "source": [
    "## <font color='blue'> 10 </font>"
   ]
  },
  {
   "cell_type": "code",
   "execution_count": 7,
   "id": "07395921",
   "metadata": {},
   "outputs": [],
   "source": [
    "# Exercício 10 - Considere a string abaixo. Imprima na tela apenas os caracteres da posição 1 a 18.\n",
    "frase = 'Cientista de Dados é o profissional mais sexy do século XXI'"
   ]
  },
  {
   "cell_type": "code",
   "execution_count": 9,
   "id": "7fd6a8fc",
   "metadata": {},
   "outputs": [
    {
     "data": {
      "text/plain": [
       "'Cientista de Dados'"
      ]
     },
     "execution_count": 9,
     "metadata": {},
     "output_type": "execute_result"
    }
   ],
   "source": [
    "frase[0 : 18]"
   ]
  }
 ],
 "metadata": {
  "kernelspec": {
   "display_name": "Python 3 (ipykernel)",
   "language": "python",
   "name": "python3"
  },
  "language_info": {
   "codemirror_mode": {
    "name": "ipython",
    "version": 3
   },
   "file_extension": ".py",
   "mimetype": "text/x-python",
   "name": "python",
   "nbconvert_exporter": "python",
   "pygments_lexer": "ipython3",
   "version": "3.9.7"
  }
 },
 "nbformat": 4,
 "nbformat_minor": 5
}
