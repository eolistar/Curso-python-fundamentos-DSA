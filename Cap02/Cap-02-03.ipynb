{
 "cells": [
  {
   "cell_type": "markdown",
   "id": "fbf4ad41",
   "metadata": {},
   "source": [
    "# Aula sobre strings"
   ]
  },
  {
   "cell_type": "code",
   "execution_count": 1,
   "id": "50f7406f",
   "metadata": {},
   "outputs": [
    {
     "data": {
      "text/plain": [
       "'Isso é uma string'"
      ]
     },
     "execution_count": 1,
     "metadata": {},
     "output_type": "execute_result"
    }
   ],
   "source": [
    "#Podemos criar uma string apenas escrevendo algo iniciando com aspas\n",
    "'Isso é uma string'"
   ]
  },
  {
   "cell_type": "code",
   "execution_count": 2,
   "id": "190375fe",
   "metadata": {},
   "outputs": [
    {
     "data": {
      "text/plain": [
       "'Hello World'"
      ]
     },
     "execution_count": 2,
     "metadata": {},
     "output_type": "execute_result"
    }
   ],
   "source": [
    "#Podemos criar uma string usando aspas simples ou duplas\n",
    "'Hello World'"
   ]
  },
  {
   "cell_type": "code",
   "execution_count": 3,
   "id": "5cf2fb6f",
   "metadata": {},
   "outputs": [
    {
     "data": {
      "text/plain": [
       "'Olá Mundo'"
      ]
     },
     "execution_count": 3,
     "metadata": {},
     "output_type": "execute_result"
    }
   ],
   "source": [
    "\"Olá Mundo\""
   ]
  },
  {
   "cell_type": "code",
   "execution_count": 4,
   "id": "9d1e8a34",
   "metadata": {},
   "outputs": [
    {
     "data": {
      "text/plain": [
       "\"Isso é uma 'string'\""
      ]
     },
     "execution_count": 4,
     "metadata": {},
     "output_type": "execute_result"
    }
   ],
   "source": [
    "#Podemos combinar aspas duplas e simples\n",
    "\"Isso é uma 'string'\""
   ]
  },
  {
   "cell_type": "markdown",
   "id": "892f1028",
   "metadata": {},
   "source": [
    "## Imprimindo uma string"
   ]
  },
  {
   "cell_type": "code",
   "execution_count": 5,
   "id": "3c39e0e0",
   "metadata": {},
   "outputs": [
    {
     "name": "stdout",
     "output_type": "stream",
     "text": [
      "Estou sendo impressa\n"
     ]
    }
   ],
   "source": [
    "print (\"Estou sendo impressa\")"
   ]
  },
  {
   "cell_type": "code",
   "execution_count": 6,
   "id": "ecb67ed6",
   "metadata": {},
   "outputs": [
    {
     "name": "stdout",
     "output_type": "stream",
     "text": [
      "Assim \n",
      "Fazemos \n",
      "Quebras \n",
      "De \n",
      "Linhas\n"
     ]
    }
   ],
   "source": [
    "#Para fazer quebras de linhas usamos o comando \\n\n",
    "print ('Assim \\nFazemos \\nQuebras \\nDe \\nLinhas')"
   ]
  },
  {
   "cell_type": "code",
   "execution_count": 7,
   "id": "53adaaa2",
   "metadata": {},
   "outputs": [
    {
     "name": "stdout",
     "output_type": "stream",
     "text": [
      "\n",
      "\n"
     ]
    }
   ],
   "source": [
    "#A quebra de linha é um tipo de caractere\n",
    "print (\"\\n\")"
   ]
  },
  {
   "cell_type": "markdown",
   "id": "9153e3ea",
   "metadata": {},
   "source": [
    "## Indexando Strings"
   ]
  },
  {
   "cell_type": "code",
   "execution_count": 8,
   "id": "0ac0b6c1",
   "metadata": {},
   "outputs": [],
   "source": [
    "#Atribuindo uma string a uma variável\n",
    "s = 'Eu pertenço a variável s'"
   ]
  },
  {
   "cell_type": "code",
   "execution_count": 9,
   "id": "9922b42c",
   "metadata": {},
   "outputs": [
    {
     "name": "stdout",
     "output_type": "stream",
     "text": [
      "Eu pertenço a variável s\n"
     ]
    }
   ],
   "source": [
    "print (s)"
   ]
  },
  {
   "cell_type": "code",
   "execution_count": null,
   "id": "7125f572",
   "metadata": {},
   "outputs": [],
   "source": [
    "#Podemos fazer a indexação de uma string da seguinte forma\n",
    "#Em python o índice começa em 0, dessa forma temos o primeiro caractere de s\n",
    "s[0]"
   ]
  },
  {
   "cell_type": "code",
   "execution_count": null,
   "id": "ea4aa157",
   "metadata": {},
   "outputs": [],
   "source": [
    "s[1]"
   ]
  },
  {
   "cell_type": "code",
   "execution_count": null,
   "id": "eff63cc6",
   "metadata": {},
   "outputs": [],
   "source": [
    "s[2]"
   ]
  },
  {
   "cell_type": "markdown",
   "id": "d8c07135",
   "metadata": {},
   "source": [
    "### Podemos usar um : para executar um slicing que faz a leitura de tudo até um ponto designado. Por exemplo:"
   ]
  },
  {
   "cell_type": "code",
   "execution_count": null,
   "id": "a3437abb",
   "metadata": {},
   "outputs": [],
   "source": [
    "#Exibi todos os caracteres começando pelo índice 1\n",
    "s[1:]"
   ]
  },
  {
   "cell_type": "code",
   "execution_count": null,
   "id": "474a80ca",
   "metadata": {},
   "outputs": [],
   "source": [
    "#Exibi todos os caracteres até o ínidice 5\n",
    "s[:5]"
   ]
  },
  {
   "cell_type": "code",
   "execution_count": null,
   "id": "6c6c0608",
   "metadata": {},
   "outputs": [],
   "source": [
    "#Exibi os caracteres do índice 5 ao 8\n",
    "s[5:8]"
   ]
  },
  {
   "cell_type": "code",
   "execution_count": null,
   "id": "de2eb168",
   "metadata": {},
   "outputs": [],
   "source": [
    "s[:]"
   ]
  },
  {
   "cell_type": "markdown",
   "id": "67e39985",
   "metadata": {},
   "source": [
    "Como podemos ver podemos definir limites para a exibição dos caracteres através do índice"
   ]
  },
  {
   "cell_type": "code",
   "execution_count": null,
   "id": "a3abb177",
   "metadata": {},
   "outputs": [],
   "source": [
    "#Nós também podemos usar a indexação negativa e ler de trás para frente.\n",
    "s[-1]"
   ]
  },
  {
   "cell_type": "code",
   "execution_count": null,
   "id": "107fb595",
   "metadata": {},
   "outputs": [],
   "source": [
    "#Perceba que dessa forma estamos lendo os caractere de trás para frente\n",
    "s[:-5]"
   ]
  },
  {
   "cell_type": "markdown",
   "id": "4b6b3b8a",
   "metadata": {},
   "source": [
    "### Nós também podemos usar a notação de índice e fatiar a string em pedaços específicos (o padrão é 1). Por exemplo, podemos usar dois pontos duas vezes em uma linha e, em seguida, um número que especifica a frequência para retornar elementos. Por exemplo:"
   ]
  },
  {
   "cell_type": "code",
   "execution_count": null,
   "id": "575adf52",
   "metadata": {},
   "outputs": [],
   "source": [
    "#A frequência é 1, dessa forma nenhuma letra é engolida\n",
    "s[::1]"
   ]
  },
  {
   "cell_type": "code",
   "execution_count": null,
   "id": "f760f56f",
   "metadata": {},
   "outputs": [],
   "source": [
    "s[::2]"
   ]
  },
  {
   "cell_type": "code",
   "execution_count": null,
   "id": "1de44850",
   "metadata": {},
   "outputs": [],
   "source": [
    "s[::3]"
   ]
  },
  {
   "cell_type": "code",
   "execution_count": null,
   "id": "0fa54513",
   "metadata": {},
   "outputs": [],
   "source": [
    "s[::-1]"
   ]
  },
  {
   "cell_type": "markdown",
   "id": "125ed4d0",
   "metadata": {},
   "source": [
    "## Propriedades de Strings"
   ]
  },
  {
   "cell_type": "code",
   "execution_count": 10,
   "id": "2d07ce51",
   "metadata": {},
   "outputs": [
    {
     "data": {
      "text/plain": [
       "'Eu pertenço a variável s'"
      ]
     },
     "execution_count": 10,
     "metadata": {},
     "output_type": "execute_result"
    }
   ],
   "source": [
    "s"
   ]
  },
  {
   "cell_type": "code",
   "execution_count": 11,
   "id": "e3797a1f",
   "metadata": {},
   "outputs": [
    {
     "ename": "TypeError",
     "evalue": "'str' object does not support item assignment",
     "output_type": "error",
     "traceback": [
      "\u001b[1;31m---------------------------------------------------------------------------\u001b[0m",
      "\u001b[1;31mTypeError\u001b[0m                                 Traceback (most recent call last)",
      "\u001b[1;32m~\\AppData\\Local\\Temp/ipykernel_13108/1962844421.py\u001b[0m in \u001b[0;36m<module>\u001b[1;34m\u001b[0m\n\u001b[1;32m----> 1\u001b[1;33m \u001b[0ms\u001b[0m\u001b[1;33m[\u001b[0m\u001b[1;36m0\u001b[0m\u001b[1;33m]\u001b[0m \u001b[1;33m=\u001b[0m \u001b[1;34m'x'\u001b[0m\u001b[1;33m\u001b[0m\u001b[1;33m\u001b[0m\u001b[0m\n\u001b[0m",
      "\u001b[1;31mTypeError\u001b[0m: 'str' object does not support item assignment"
     ]
    }
   ],
   "source": [
    "s[0] = 'x'"
   ]
  },
  {
   "cell_type": "code",
   "execution_count": 12,
   "id": "d9cc25f3",
   "metadata": {},
   "outputs": [
    {
     "data": {
      "text/plain": [
       "'Eu pertenço a variável s .essa parte foi adicionada depois através da concatenação.'"
      ]
     },
     "execution_count": 12,
     "metadata": {},
     "output_type": "execute_result"
    }
   ],
   "source": [
    "#Concatenando strings\n",
    "s + ' .essa parte foi adicionada depois através da concatenação.'"
   ]
  },
  {
   "cell_type": "code",
   "execution_count": 13,
   "id": "f0225988",
   "metadata": {},
   "outputs": [
    {
     "data": {
      "text/plain": [
       "'Eu pertenço a variável s'"
      ]
     },
     "execution_count": 13,
     "metadata": {},
     "output_type": "execute_result"
    }
   ],
   "source": [
    "#A variável permanece inalterada\n",
    "s"
   ]
  },
  {
   "cell_type": "code",
   "execution_count": 14,
   "id": "95e5e633",
   "metadata": {},
   "outputs": [],
   "source": [
    "#Dessa forma podemos alterar a variável ao mesmo tempo que fazemos a concatenação\n",
    "s = s + ' .essa parte foi adicionada depois através da concatenação.'"
   ]
  },
  {
   "cell_type": "code",
   "execution_count": 16,
   "id": "2aab01d2",
   "metadata": {},
   "outputs": [
    {
     "name": "stdout",
     "output_type": "stream",
     "text": [
      "Eu pertenço a variável s .essa parte foi adicionada depois através da concatenação.\n"
     ]
    }
   ],
   "source": [
    "#Agora a variável foi alterada\n",
    "print (s)"
   ]
  },
  {
   "cell_type": "code",
   "execution_count": 21,
   "id": "55d0e9c6",
   "metadata": {},
   "outputs": [
    {
     "data": {
      "text/plain": [
       "'www'"
      ]
     },
     "execution_count": 21,
     "metadata": {},
     "output_type": "execute_result"
    }
   ],
   "source": [
    "#Podemos usar o símbolo de multiplicação para cria uma repetição\n",
    "letra = 'w'\n",
    "letra * 3"
   ]
  },
  {
   "cell_type": "markdown",
   "id": "7c491978",
   "metadata": {},
   "source": [
    "## Funções Built-in de Strings"
   ]
  },
  {
   "cell_type": "code",
   "execution_count": 22,
   "id": "e9d0b85e",
   "metadata": {},
   "outputs": [
    {
     "data": {
      "text/plain": [
       "'Eu pertenço a variável s .essa parte foi adicionada depois através da concatenação.'"
      ]
     },
     "execution_count": 22,
     "metadata": {},
     "output_type": "execute_result"
    }
   ],
   "source": [
    "s"
   ]
  },
  {
   "cell_type": "code",
   "execution_count": 23,
   "id": "b6596797",
   "metadata": {},
   "outputs": [
    {
     "data": {
      "text/plain": [
       "'EU PERTENÇO A VARIÁVEL S .ESSA PARTE FOI ADICIONADA DEPOIS ATRAVÉS DA CONCATENAÇÃO.'"
      ]
     },
     "execution_count": 23,
     "metadata": {},
     "output_type": "execute_result"
    }
   ],
   "source": [
    "#Upper case\n",
    "s.upper()"
   ]
  },
  {
   "cell_type": "code",
   "execution_count": 24,
   "id": "7697c251",
   "metadata": {},
   "outputs": [
    {
     "data": {
      "text/plain": [
       "'eu pertenço a variável s .essa parte foi adicionada depois através da concatenação.'"
      ]
     },
     "execution_count": 24,
     "metadata": {},
     "output_type": "execute_result"
    }
   ],
   "source": [
    "#Lower case\n",
    "s.lower()"
   ]
  },
  {
   "cell_type": "code",
   "execution_count": 25,
   "id": "920117ab",
   "metadata": {},
   "outputs": [
    {
     "data": {
      "text/plain": [
       "['Eu',\n",
       " 'pertenço',\n",
       " 'a',\n",
       " 'variável',\n",
       " 's',\n",
       " '.essa',\n",
       " 'parte',\n",
       " 'foi',\n",
       " 'adicionada',\n",
       " 'depois',\n",
       " 'através',\n",
       " 'da',\n",
       " 'concatenação.']"
      ]
     },
     "execution_count": 25,
     "metadata": {},
     "output_type": "execute_result"
    }
   ],
   "source": [
    "#Dividir uma string por espaços em branco\n",
    "s.split()"
   ]
  },
  {
   "cell_type": "code",
   "execution_count": 29,
   "id": "c8efc2f3",
   "metadata": {},
   "outputs": [
    {
     "data": {
      "text/plain": [
       "['Eu pertenço a variável s .essa parte ',\n",
       " 'oi adicionada depois através da concatenação.']"
      ]
     },
     "execution_count": 29,
     "metadata": {},
     "output_type": "execute_result"
    }
   ],
   "source": [
    "#Dividir uma string por um elemento específico\n",
    "s.split('f')"
   ]
  },
  {
   "cell_type": "markdown",
   "id": "d07a56ae",
   "metadata": {},
   "source": [
    "## Funções String"
   ]
  },
  {
   "cell_type": "code",
   "execution_count": 2,
   "id": "cc26b68c",
   "metadata": {},
   "outputs": [],
   "source": [
    "s = 'string de teste'"
   ]
  },
  {
   "cell_type": "code",
   "execution_count": 4,
   "id": "e41fb6c6",
   "metadata": {},
   "outputs": [
    {
     "data": {
      "text/plain": [
       "'String de teste'"
      ]
     },
     "execution_count": 4,
     "metadata": {},
     "output_type": "execute_result"
    }
   ],
   "source": [
    "#Transforma a primeira letra em maiúsculo\n",
    "s.capitalize()"
   ]
  },
  {
   "cell_type": "code",
   "execution_count": 6,
   "id": "d6dfc633",
   "metadata": {},
   "outputs": [
    {
     "data": {
      "text/plain": [
       "3"
      ]
     },
     "execution_count": 6,
     "metadata": {},
     "output_type": "execute_result"
    }
   ],
   "source": [
    "#Retorna o número de vezes que um elemento aparece na string\n",
    "s.count('e')"
   ]
  },
  {
   "cell_type": "code",
   "execution_count": 9,
   "id": "84f0ec74",
   "metadata": {},
   "outputs": [
    {
     "data": {
      "text/plain": [
       "5"
      ]
     },
     "execution_count": 9,
     "metadata": {},
     "output_type": "execute_result"
    }
   ],
   "source": [
    "#Mostra a posição que um elemento está na string\n",
    "s.find('g')"
   ]
  },
  {
   "cell_type": "code",
   "execution_count": 10,
   "id": "8a178037",
   "metadata": {},
   "outputs": [
    {
     "data": {
      "text/plain": [
       "True"
      ]
     },
     "execution_count": 10,
     "metadata": {},
     "output_type": "execute_result"
    }
   ],
   "source": [
    "#Mostra se a string tem caracteres minúsculos\n",
    "s.islower()"
   ]
  },
  {
   "cell_type": "code",
   "execution_count": 11,
   "id": "d5c7349f",
   "metadata": {},
   "outputs": [
    {
     "data": {
      "text/plain": [
       "False"
      ]
     },
     "execution_count": 11,
     "metadata": {},
     "output_type": "execute_result"
    }
   ],
   "source": [
    "#Mostra se a string é apenas um espaço\n",
    "s.isspace()"
   ]
  },
  {
   "cell_type": "code",
   "execution_count": 15,
   "id": "25e3686d",
   "metadata": {},
   "outputs": [
    {
     "data": {
      "text/plain": [
       "False"
      ]
     },
     "execution_count": 15,
     "metadata": {},
     "output_type": "execute_result"
    }
   ],
   "source": [
    "#Mostra se a string termina com um determinado caractere ('o' no caso)\n",
    "s.endswith('o')"
   ]
  },
  {
   "cell_type": "markdown",
   "id": "6a7d319d",
   "metadata": {},
   "source": [
    "## Comparando Strings"
   ]
  },
  {
   "cell_type": "code",
   "execution_count": 17,
   "id": "97c04e74",
   "metadata": {},
   "outputs": [
    {
     "name": "stdout",
     "output_type": "stream",
     "text": [
      "False\n"
     ]
    }
   ],
   "source": [
    "#Ao fazer uma comparação ele retorna se tal comparação é verdadeira ou falsa\n",
    "print('Python' == 'R')"
   ]
  },
  {
   "cell_type": "code",
   "execution_count": 18,
   "id": "850d8c03",
   "metadata": {},
   "outputs": [
    {
     "name": "stdout",
     "output_type": "stream",
     "text": [
      "True\n"
     ]
    }
   ],
   "source": [
    "print('Python' == 'Python')"
   ]
  }
 ],
 "metadata": {
  "kernelspec": {
   "display_name": "Python 3 (ipykernel)",
   "language": "python",
   "name": "python3"
  },
  "language_info": {
   "codemirror_mode": {
    "name": "ipython",
    "version": 3
   },
   "file_extension": ".py",
   "mimetype": "text/x-python",
   "name": "python",
   "nbconvert_exporter": "python",
   "pygments_lexer": "ipython3",
   "version": "3.9.7"
  }
 },
 "nbformat": 4,
 "nbformat_minor": 5
}
