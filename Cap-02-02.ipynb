{
 "cells": [
  {
   "cell_type": "markdown",
   "id": "bd8b49b0",
   "metadata": {},
   "source": [
    "# Variáveis e Operadores em Python"
   ]
  },
  {
   "cell_type": "code",
   "execution_count": null,
   "id": "19c90a9b",
   "metadata": {},
   "outputs": [],
   "source": [
    "#Declarando e definindo um valor para a variável var_teste\n",
    "var_teste = 1"
   ]
  },
  {
   "cell_type": "code",
   "execution_count": null,
   "id": "bdbdadd3",
   "metadata": {},
   "outputs": [],
   "source": [
    "#Exibindo o valor da variável\n",
    "var_teste"
   ]
  },
  {
   "cell_type": "code",
   "execution_count": null,
   "id": "e877d117",
   "metadata": {},
   "outputs": [],
   "source": [
    "#Usando a função print para exibir o valor da variálvel\n",
    "print (var_teste)"
   ]
  },
  {
   "cell_type": "code",
   "execution_count": null,
   "id": "1f5dc963",
   "metadata": {},
   "outputs": [],
   "source": [
    "#Esta variável não foi declarada portanto não pode ser usada\n",
    "my_var"
   ]
  },
  {
   "cell_type": "code",
   "execution_count": null,
   "id": "998fce74",
   "metadata": {},
   "outputs": [],
   "source": [
    "type (var_teste)"
   ]
  },
  {
   "cell_type": "code",
   "execution_count": null,
   "id": "38c7f210",
   "metadata": {},
   "outputs": [],
   "source": [
    "var_teste = 8.5"
   ]
  },
  {
   "cell_type": "code",
   "execution_count": null,
   "id": "93228e33",
   "metadata": {},
   "outputs": [],
   "source": [
    "var_teste"
   ]
  },
  {
   "cell_type": "code",
   "execution_count": null,
   "id": "8ea4052c",
   "metadata": {},
   "outputs": [],
   "source": [
    "type (var_teste)"
   ]
  },
  {
   "cell_type": "code",
   "execution_count": null,
   "id": "ae808a73",
   "metadata": {},
   "outputs": [],
   "source": []
  }
 ],
 "metadata": {
  "kernelspec": {
   "display_name": "Python 3 (ipykernel)",
   "language": "python",
   "name": "python3"
  },
  "language_info": {
   "codemirror_mode": {
    "name": "ipython",
    "version": 3
   },
   "file_extension": ".py",
   "mimetype": "text/x-python",
   "name": "python",
   "nbconvert_exporter": "python",
   "pygments_lexer": "ipython3",
   "version": "3.9.7"
  }
 },
 "nbformat": 4,
 "nbformat_minor": 5
}
