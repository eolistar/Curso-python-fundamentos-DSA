{
 "cells": [
  {
   "cell_type": "markdown",
   "id": "6873d039",
   "metadata": {},
   "source": [
    "# Sobre Tuplas"
   ]
  },
  {
   "cell_type": "code",
   "execution_count": 1,
   "id": "41c1d98f",
   "metadata": {},
   "outputs": [],
   "source": [
    "#Criando uma tupla\n",
    "tupla1 = (\"isso\", 15, 2.5)"
   ]
  },
  {
   "cell_type": "code",
   "execution_count": 2,
   "id": "99cc622f",
   "metadata": {},
   "outputs": [
    {
     "data": {
      "text/plain": [
       "('isso', 15, 2.5)"
      ]
     },
     "execution_count": 2,
     "metadata": {},
     "output_type": "execute_result"
    }
   ],
   "source": [
    "tupla1"
   ]
  },
  {
   "cell_type": "code",
   "execution_count": 3,
   "id": "f0d46ec2",
   "metadata": {},
   "outputs": [
    {
     "ename": "AttributeError",
     "evalue": "'tuple' object has no attribute 'append'",
     "output_type": "error",
     "traceback": [
      "\u001b[1;31m---------------------------------------------------------------------------\u001b[0m",
      "\u001b[1;31mAttributeError\u001b[0m                            Traceback (most recent call last)",
      "\u001b[1;32m~\\AppData\\Local\\Temp/ipykernel_10664/1028753678.py\u001b[0m in \u001b[0;36m<module>\u001b[1;34m\u001b[0m\n\u001b[0;32m      1\u001b[0m \u001b[1;31m#Tuplas não suportam append()\u001b[0m\u001b[1;33m\u001b[0m\u001b[1;33m\u001b[0m\u001b[0m\n\u001b[1;32m----> 2\u001b[1;33m \u001b[0mtupla1\u001b[0m\u001b[1;33m.\u001b[0m\u001b[0mappend\u001b[0m\u001b[1;33m(\u001b[0m\u001b[1;34m\"Doce\"\u001b[0m\u001b[1;33m)\u001b[0m\u001b[1;33m\u001b[0m\u001b[1;33m\u001b[0m\u001b[0m\n\u001b[0m",
      "\u001b[1;31mAttributeError\u001b[0m: 'tuple' object has no attribute 'append'"
     ]
    }
   ],
   "source": [
    "#Tuplas não suportam append() \n",
    "tupla1.append(\"Doce\")"
   ]
  },
  {
   "cell_type": "markdown",
   "id": "81e72ae8",
   "metadata": {},
   "source": [
    "### Tuplas são imutáveis, ou seja, não podemos modificar um item, nem deleta-lo ou adicionar um novo"
   ]
  },
  {
   "cell_type": "code",
   "execution_count": 4,
   "id": "6b64271f",
   "metadata": {},
   "outputs": [
    {
     "ename": "TypeError",
     "evalue": "'tuple' object does not support item deletion",
     "output_type": "error",
     "traceback": [
      "\u001b[1;31m---------------------------------------------------------------------------\u001b[0m",
      "\u001b[1;31mTypeError\u001b[0m                                 Traceback (most recent call last)",
      "\u001b[1;32m~\\AppData\\Local\\Temp/ipykernel_10664/1663325346.py\u001b[0m in \u001b[0;36m<module>\u001b[1;34m\u001b[0m\n\u001b[0;32m      1\u001b[0m \u001b[1;31m#Não podemos deletar um item\u001b[0m\u001b[1;33m\u001b[0m\u001b[1;33m\u001b[0m\u001b[0m\n\u001b[1;32m----> 2\u001b[1;33m \u001b[1;32mdel\u001b[0m \u001b[0mtupla1\u001b[0m\u001b[1;33m[\u001b[0m\u001b[1;36m2.5\u001b[0m\u001b[1;33m]\u001b[0m\u001b[1;33m\u001b[0m\u001b[1;33m\u001b[0m\u001b[0m\n\u001b[0m",
      "\u001b[1;31mTypeError\u001b[0m: 'tuple' object does not support item deletion"
     ]
    }
   ],
   "source": [
    "#Não podemos deletar um item\n",
    "del tupla1[2.5]"
   ]
  },
  {
   "cell_type": "code",
   "execution_count": 5,
   "id": "d40a1bd2",
   "metadata": {},
   "outputs": [
    {
     "ename": "TypeError",
     "evalue": "'tuple' object does not support item assignment",
     "output_type": "error",
     "traceback": [
      "\u001b[1;31m---------------------------------------------------------------------------\u001b[0m",
      "\u001b[1;31mTypeError\u001b[0m                                 Traceback (most recent call last)",
      "\u001b[1;32m~\\AppData\\Local\\Temp/ipykernel_10664/514646519.py\u001b[0m in \u001b[0;36m<module>\u001b[1;34m\u001b[0m\n\u001b[0;32m      1\u001b[0m \u001b[1;31m#Não suporta atribuição de item\u001b[0m\u001b[1;33m\u001b[0m\u001b[1;33m\u001b[0m\u001b[0m\n\u001b[1;32m----> 2\u001b[1;33m \u001b[0mtupla1\u001b[0m\u001b[1;33m[\u001b[0m\u001b[1;36m1\u001b[0m\u001b[1;33m]\u001b[0m \u001b[1;33m=\u001b[0m \u001b[1;36m75\u001b[0m\u001b[1;33m\u001b[0m\u001b[1;33m\u001b[0m\u001b[0m\n\u001b[0m",
      "\u001b[1;31mTypeError\u001b[0m: 'tuple' object does not support item assignment"
     ]
    }
   ],
   "source": [
    "#Não suporta atribuição de item\n",
    "tupla1[1] = 75"
   ]
  },
  {
   "cell_type": "code",
   "execution_count": 6,
   "id": "88cf93c2",
   "metadata": {},
   "outputs": [],
   "source": [
    "#Mas podemos atribuir a outras variáveis os itens de uma tupla\n",
    "A = tupla1[1]"
   ]
  },
  {
   "cell_type": "code",
   "execution_count": 7,
   "id": "b76b6914",
   "metadata": {},
   "outputs": [
    {
     "data": {
      "text/plain": [
       "15"
      ]
     },
     "execution_count": 7,
     "metadata": {},
     "output_type": "execute_result"
    }
   ],
   "source": [
    "A"
   ]
  },
  {
   "cell_type": "code",
   "execution_count": 8,
   "id": "1260e027",
   "metadata": {},
   "outputs": [],
   "source": [
    "#Tuplas podem ter um único item\n",
    "tupla1 = (\"História\")"
   ]
  },
  {
   "cell_type": "code",
   "execution_count": 9,
   "id": "0bf4960a",
   "metadata": {},
   "outputs": [
    {
     "data": {
      "text/plain": [
       "'História'"
      ]
     },
     "execution_count": 9,
     "metadata": {},
     "output_type": "execute_result"
    }
   ],
   "source": [
    "tupla1"
   ]
  },
  {
   "cell_type": "code",
   "execution_count": 10,
   "id": "f5023170",
   "metadata": {},
   "outputs": [],
   "source": [
    "tupla1 = (\"isso\", 15, 2.5)"
   ]
  },
  {
   "cell_type": "code",
   "execution_count": 14,
   "id": "b9cbb933",
   "metadata": {},
   "outputs": [
    {
     "data": {
      "text/plain": [
       "'isso'"
      ]
     },
     "execution_count": 14,
     "metadata": {},
     "output_type": "execute_result"
    }
   ],
   "source": [
    "#Exibindo apenas um item da tupla\n",
    "tupla1[0]"
   ]
  },
  {
   "cell_type": "code",
   "execution_count": 15,
   "id": "ce80c18b",
   "metadata": {},
   "outputs": [
    {
     "data": {
      "text/plain": [
       "3"
      ]
     },
     "execution_count": 15,
     "metadata": {},
     "output_type": "execute_result"
    }
   ],
   "source": [
    "#Podemos verificar o comprimento da tupla\n",
    "len(tupla1)"
   ]
  },
  {
   "cell_type": "code",
   "execution_count": 16,
   "id": "8f7126ee",
   "metadata": {},
   "outputs": [
    {
     "data": {
      "text/plain": [
       "(15, 2.5)"
      ]
     },
     "execution_count": 16,
     "metadata": {},
     "output_type": "execute_result"
    }
   ],
   "source": [
    "#E fazer slicing\n",
    "tupla1[1:]"
   ]
  },
  {
   "cell_type": "code",
   "execution_count": 17,
   "id": "8578eaec",
   "metadata": {},
   "outputs": [
    {
     "data": {
      "text/plain": [
       "2"
      ]
     },
     "execution_count": 17,
     "metadata": {},
     "output_type": "execute_result"
    }
   ],
   "source": [
    "tupla1.index(2.5)"
   ]
  },
  {
   "cell_type": "code",
   "execution_count": 18,
   "id": "98748a38",
   "metadata": {},
   "outputs": [],
   "source": [
    "#Podemos deletar uma tupla\n",
    "del tupla1"
   ]
  },
  {
   "cell_type": "code",
   "execution_count": 19,
   "id": "0799a129",
   "metadata": {},
   "outputs": [
    {
     "ename": "NameError",
     "evalue": "name 'tupla1' is not defined",
     "output_type": "error",
     "traceback": [
      "\u001b[1;31m---------------------------------------------------------------------------\u001b[0m",
      "\u001b[1;31mNameError\u001b[0m                                 Traceback (most recent call last)",
      "\u001b[1;32m~\\AppData\\Local\\Temp/ipykernel_10664/3141490790.py\u001b[0m in \u001b[0;36m<module>\u001b[1;34m\u001b[0m\n\u001b[1;32m----> 1\u001b[1;33m \u001b[0mtupla1\u001b[0m\u001b[1;33m\u001b[0m\u001b[1;33m\u001b[0m\u001b[0m\n\u001b[0m",
      "\u001b[1;31mNameError\u001b[0m: name 'tupla1' is not defined"
     ]
    }
   ],
   "source": [
    "tupla1"
   ]
  },
  {
   "cell_type": "code",
   "execution_count": 25,
   "id": "341e546a",
   "metadata": {},
   "outputs": [],
   "source": [
    "#Criando uma tupla\n",
    "t1 = (\"isso\", \"deveria ser\", \"uma lista\")"
   ]
  },
  {
   "cell_type": "code",
   "execution_count": 26,
   "id": "878c436a",
   "metadata": {},
   "outputs": [
    {
     "data": {
      "text/plain": [
       "('isso', 'deveria ser', 'uma lista')"
      ]
     },
     "execution_count": 26,
     "metadata": {},
     "output_type": "execute_result"
    }
   ],
   "source": [
    "t1"
   ]
  },
  {
   "cell_type": "code",
   "execution_count": 34,
   "id": "9a8b0d7f",
   "metadata": {},
   "outputs": [],
   "source": [
    "#Convertendo para lista, função list()\n",
    "lista_t1 = list(t1)"
   ]
  },
  {
   "cell_type": "code",
   "execution_count": 35,
   "id": "02077d9e",
   "metadata": {},
   "outputs": [
    {
     "data": {
      "text/plain": [
       "['isso', 'deveria ser', 'uma lista']"
      ]
     },
     "execution_count": 35,
     "metadata": {},
     "output_type": "execute_result"
    }
   ],
   "source": [
    "lista_t1"
   ]
  },
  {
   "cell_type": "code",
   "execution_count": 36,
   "id": "06aca0ec",
   "metadata": {},
   "outputs": [],
   "source": [
    "lista_t1[1] = \"agora é\""
   ]
  },
  {
   "cell_type": "code",
   "execution_count": 37,
   "id": "bd3cfb54",
   "metadata": {},
   "outputs": [
    {
     "name": "stdout",
     "output_type": "stream",
     "text": [
      "['isso', 'agora é', 'uma lista']\n"
     ]
    }
   ],
   "source": [
    "print(lista_t1)"
   ]
  },
  {
   "cell_type": "code",
   "execution_count": 38,
   "id": "e8586572",
   "metadata": {},
   "outputs": [],
   "source": [
    "# Usando a função tuple() para converter uma lista para tupla\n",
    "t1 = tuple(lista_t1)"
   ]
  },
  {
   "cell_type": "code",
   "execution_count": 39,
   "id": "d90a7155",
   "metadata": {},
   "outputs": [
    {
     "data": {
      "text/plain": [
       "('isso', 'agora é', 'uma lista')"
      ]
     },
     "execution_count": 39,
     "metadata": {},
     "output_type": "execute_result"
    }
   ],
   "source": [
    "t1"
   ]
  }
 ],
 "metadata": {
  "kernelspec": {
   "display_name": "Python 3 (ipykernel)",
   "language": "python",
   "name": "python3"
  },
  "language_info": {
   "codemirror_mode": {
    "name": "ipython",
    "version": 3
   },
   "file_extension": ".py",
   "mimetype": "text/x-python",
   "name": "python",
   "nbconvert_exporter": "python",
   "pygments_lexer": "ipython3",
   "version": "3.9.7"
  }
 },
 "nbformat": 4,
 "nbformat_minor": 5
}
