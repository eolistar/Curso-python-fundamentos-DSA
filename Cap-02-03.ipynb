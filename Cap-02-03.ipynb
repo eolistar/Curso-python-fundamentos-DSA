{
 "cells": [
  {
   "cell_type": "markdown",
   "id": "fbf4ad41",
   "metadata": {},
   "source": [
    "# Aula sobre strings"
   ]
  },
  {
   "cell_type": "code",
   "execution_count": 9,
   "id": "50f7406f",
   "metadata": {},
   "outputs": [
    {
     "data": {
      "text/plain": [
       "'Isso é uma string'"
      ]
     },
     "execution_count": 9,
     "metadata": {},
     "output_type": "execute_result"
    }
   ],
   "source": [
    "#Podemos criar uma string apenas escrevendo algo iniciando com aspas\n",
    "'Isso é uma string'"
   ]
  },
  {
   "cell_type": "code",
   "execution_count": 5,
   "id": "190375fe",
   "metadata": {},
   "outputs": [
    {
     "data": {
      "text/plain": [
       "'Hello World'"
      ]
     },
     "execution_count": 5,
     "metadata": {},
     "output_type": "execute_result"
    }
   ],
   "source": [
    "#Podemos criar uma string usando aspas simples ou duplas\n",
    "'Hello World'"
   ]
  },
  {
   "cell_type": "code",
   "execution_count": 6,
   "id": "5cf2fb6f",
   "metadata": {},
   "outputs": [
    {
     "data": {
      "text/plain": [
       "'Olá Mundo'"
      ]
     },
     "execution_count": 6,
     "metadata": {},
     "output_type": "execute_result"
    }
   ],
   "source": [
    "\"Olá Mundo\""
   ]
  },
  {
   "cell_type": "code",
   "execution_count": 7,
   "id": "9d1e8a34",
   "metadata": {},
   "outputs": [
    {
     "data": {
      "text/plain": [
       "\"Isso é uma 'string'\""
      ]
     },
     "execution_count": 7,
     "metadata": {},
     "output_type": "execute_result"
    }
   ],
   "source": [
    "#Podemos combinar aspas duplas e simples\n",
    "\"Isso é uma 'string'\""
   ]
  },
  {
   "cell_type": "markdown",
   "id": "892f1028",
   "metadata": {},
   "source": [
    "## Imprimindo uma string"
   ]
  },
  {
   "cell_type": "code",
   "execution_count": 10,
   "id": "3c39e0e0",
   "metadata": {},
   "outputs": [
    {
     "name": "stdout",
     "output_type": "stream",
     "text": [
      "Estou sendo impressa\n"
     ]
    }
   ],
   "source": [
    "print (\"Estou sendo impressa\")"
   ]
  },
  {
   "cell_type": "code",
   "execution_count": 12,
   "id": "ecb67ed6",
   "metadata": {},
   "outputs": [
    {
     "name": "stdout",
     "output_type": "stream",
     "text": [
      "Assim \n",
      "Fazemos \n",
      "Quebras \n",
      "De \n",
      "Linhas\n"
     ]
    }
   ],
   "source": [
    "#Para fazer quebras de linhas usamos o comando \\n\n",
    "print ('Assim \\nFazemos \\nQuebras \\nDe \\nLinhas')"
   ]
  },
  {
   "cell_type": "code",
   "execution_count": 15,
   "id": "53adaaa2",
   "metadata": {},
   "outputs": [
    {
     "name": "stdout",
     "output_type": "stream",
     "text": [
      "\n",
      "\n"
     ]
    }
   ],
   "source": [
    "#A quebra de linha é um tipo de caractere\n",
    "print (\"\\n\")"
   ]
  },
  {
   "cell_type": "code",
   "execution_count": null,
   "id": "5ef618ad",
   "metadata": {},
   "outputs": [],
   "source": []
  }
 ],
 "metadata": {
  "kernelspec": {
   "display_name": "Python 3 (ipykernel)",
   "language": "python",
   "name": "python3"
  },
  "language_info": {
   "codemirror_mode": {
    "name": "ipython",
    "version": 3
   },
   "file_extension": ".py",
   "mimetype": "text/x-python",
   "name": "python",
   "nbconvert_exporter": "python",
   "pygments_lexer": "ipython3",
   "version": "3.9.7"
  }
 },
 "nbformat": 4,
 "nbformat_minor": 5
}
