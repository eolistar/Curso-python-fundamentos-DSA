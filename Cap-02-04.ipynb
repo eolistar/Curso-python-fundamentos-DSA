{
 "cells": [
  {
   "cell_type": "markdown",
   "id": "c48e95d5",
   "metadata": {},
   "source": [
    "# Sobre Listas"
   ]
  },
  {
   "cell_type": "code",
   "execution_count": null,
   "id": "c2c230a7",
   "metadata": {},
   "outputs": [],
   "source": [
    "#Criando uma lista\n",
    "listadomercado = [\"ovos, farinha, leite, arroz\"]"
   ]
  },
  {
   "cell_type": "code",
   "execution_count": null,
   "id": "02d71d4b",
   "metadata": {},
   "outputs": [],
   "source": [
    "print(listadomercado)"
   ]
  },
  {
   "cell_type": "code",
   "execution_count": null,
   "id": "629cb19e",
   "metadata": {},
   "outputs": [],
   "source": [
    "#Como podemos ver essa sintaxe criou apenas um item na lista\n",
    "print(listadomercado[0])"
   ]
  },
  {
   "cell_type": "code",
   "execution_count": null,
   "id": "54e7fda2",
   "metadata": {},
   "outputs": [],
   "source": [
    "#Por isso temos apenas o índice 0\n",
    "print(listadomercado[1])"
   ]
  },
  {
   "cell_type": "code",
   "execution_count": null,
   "id": "71539b35",
   "metadata": {},
   "outputs": [],
   "source": [
    "#Criando uma lista com vários itens\n",
    "listadomercado2 = [\"ovos\", \"farinha\", \"leite\", \"arroz\"]"
   ]
  },
  {
   "cell_type": "code",
   "execution_count": null,
   "id": "ccb8596b",
   "metadata": {},
   "outputs": [],
   "source": [
    "print(listadomercado2)\n",
    "print(listadomercado2[2])"
   ]
  },
  {
   "cell_type": "code",
   "execution_count": null,
   "id": "159577ad",
   "metadata": {},
   "outputs": [],
   "source": [
    "#Podemos colocar diferentes tipos de dados em uma lista\n",
    "lista3 = [12, 100, \"Universidade\"]"
   ]
  },
  {
   "cell_type": "code",
   "execution_count": null,
   "id": "1fb9b554",
   "metadata": {},
   "outputs": [],
   "source": [
    "print(lista3)"
   ]
  },
  {
   "cell_type": "code",
   "execution_count": null,
   "id": "273ce15a",
   "metadata": {},
   "outputs": [],
   "source": [
    "#Podemos atribuir cada valor de uma lista a uma variável\n",
    "item1 = lista3[0]\n",
    "item2 = lista3[1]\n",
    "item3 = lista3[2]"
   ]
  },
  {
   "cell_type": "code",
   "execution_count": null,
   "id": "873e3aef",
   "metadata": {},
   "outputs": [],
   "source": [
    "print(item1, item2, item3)"
   ]
  },
  {
   "cell_type": "markdown",
   "id": "c5736d71",
   "metadata": {},
   "source": [
    "## Atualizando um item da lista"
   ]
  },
  {
   "cell_type": "code",
   "execution_count": null,
   "id": "23342007",
   "metadata": {},
   "outputs": [],
   "source": [
    "listadomercado2[2]"
   ]
  },
  {
   "cell_type": "code",
   "execution_count": null,
   "id": "e3e42b85",
   "metadata": {},
   "outputs": [],
   "source": [
    "#Atualizando um item da lista\n",
    "listadomercado2[2] = \"chocolate\""
   ]
  },
  {
   "cell_type": "code",
   "execution_count": null,
   "id": "6617c3ea",
   "metadata": {},
   "outputs": [],
   "source": [
    "listadomercado2"
   ]
  },
  {
   "cell_type": "markdown",
   "id": "a3c521bc",
   "metadata": {},
   "source": [
    "## Deletando um item da lista"
   ]
  },
  {
   "cell_type": "code",
   "execution_count": null,
   "id": "a02c3b2a",
   "metadata": {},
   "outputs": [],
   "source": [
    "del listadomercado2[3]"
   ]
  },
  {
   "cell_type": "code",
   "execution_count": null,
   "id": "bf2f3f3e",
   "metadata": {},
   "outputs": [],
   "source": [
    "listadomercado2"
   ]
  },
  {
   "cell_type": "markdown",
   "id": "2e3db8b5",
   "metadata": {},
   "source": [
    "## Lista de listas (listas aninhadas)"
   ]
  },
  {
   "cell_type": "markdown",
   "id": "7573feab",
   "metadata": {},
   "source": [
    "Listas de listas são matrizes em Python"
   ]
  },
  {
   "cell_type": "code",
   "execution_count": null,
   "id": "b459ac28",
   "metadata": {},
   "outputs": [],
   "source": [
    "#Criando uma lista de listas\n",
    "listas = [[1,2,3], [10,15,20], [10.5,5.2,7.8]]"
   ]
  },
  {
   "cell_type": "code",
   "execution_count": null,
   "id": "4cc4efe3",
   "metadata": {},
   "outputs": [],
   "source": [
    "listas"
   ]
  },
  {
   "cell_type": "code",
   "execution_count": null,
   "id": "1a7e1e78",
   "metadata": {},
   "outputs": [],
   "source": [
    "#Atribuindo um item da lista a uma variável\n",
    "a = listas[0]"
   ]
  },
  {
   "cell_type": "code",
   "execution_count": null,
   "id": "7b36b302",
   "metadata": {},
   "outputs": [],
   "source": [
    "#\"a\" recebe o primeiro item de \"listas\"\n",
    "a"
   ]
  },
  {
   "cell_type": "code",
   "execution_count": null,
   "id": "5e414ccf",
   "metadata": {},
   "outputs": [],
   "source": [
    "#\"b\" recebe o primeiro item de \"a\"\n",
    "b = a[0]"
   ]
  },
  {
   "cell_type": "code",
   "execution_count": null,
   "id": "d50f2b33",
   "metadata": {},
   "outputs": [],
   "source": [
    "b"
   ]
  },
  {
   "cell_type": "code",
   "execution_count": null,
   "id": "baef0320",
   "metadata": {},
   "outputs": [],
   "source": [
    "list1 = listas[1]"
   ]
  },
  {
   "cell_type": "code",
   "execution_count": null,
   "id": "8ff206c4",
   "metadata": {},
   "outputs": [],
   "source": [
    "list1"
   ]
  },
  {
   "cell_type": "code",
   "execution_count": null,
   "id": "d40048ec",
   "metadata": {},
   "outputs": [],
   "source": [
    "#Variável para armazenar o valor da lista 1 no índice 0\n",
    "valor_1_0 = list1[0]"
   ]
  },
  {
   "cell_type": "code",
   "execution_count": null,
   "id": "7f452774",
   "metadata": {},
   "outputs": [],
   "source": [
    "valor_1_0"
   ]
  },
  {
   "cell_type": "code",
   "execution_count": null,
   "id": "3755e973",
   "metadata": {},
   "outputs": [],
   "source": [
    "#Variável para armazenar o valor da lista 1 no índice 2\n",
    "valor_1_2 = list1[2]"
   ]
  },
  {
   "cell_type": "code",
   "execution_count": null,
   "id": "17739252",
   "metadata": {},
   "outputs": [],
   "source": [
    "valor_1_2"
   ]
  },
  {
   "cell_type": "code",
   "execution_count": null,
   "id": "3c9c9a61",
   "metadata": {},
   "outputs": [],
   "source": [
    "list2 = listas[2]"
   ]
  },
  {
   "cell_type": "code",
   "execution_count": null,
   "id": "10f742b1",
   "metadata": {},
   "outputs": [],
   "source": [
    "list2"
   ]
  },
  {
   "cell_type": "code",
   "execution_count": null,
   "id": "9d7a9971",
   "metadata": {},
   "outputs": [],
   "source": [
    "valor_2_0 = list2[0]"
   ]
  },
  {
   "cell_type": "code",
   "execution_count": null,
   "id": "03d27552",
   "metadata": {},
   "outputs": [],
   "source": [
    "valor_2_0"
   ]
  },
  {
   "cell_type": "markdown",
   "id": "89c48cc2",
   "metadata": {},
   "source": [
    "## Operações com listas"
   ]
  },
  {
   "cell_type": "code",
   "execution_count": null,
   "id": "b88b2157",
   "metadata": {},
   "outputs": [],
   "source": [
    "#Criando uma \"matriz\" (lista de listas)\n",
    "listas = [[1,2,3], [10,15,20], [10.5,5.2,7.8]]"
   ]
  },
  {
   "cell_type": "code",
   "execution_count": null,
   "id": "cbeeee34",
   "metadata": {},
   "outputs": [],
   "source": [
    "listas"
   ]
  },
  {
   "cell_type": "code",
   "execution_count": null,
   "id": "6fd1f125",
   "metadata": {},
   "outputs": [],
   "source": [
    "#Atribuindo à variável \"a\" o primeiro valor da primeira lista\n",
    "a = listas[0][0]"
   ]
  },
  {
   "cell_type": "code",
   "execution_count": null,
   "id": "23e41620",
   "metadata": {},
   "outputs": [],
   "source": [
    "a"
   ]
  },
  {
   "cell_type": "code",
   "execution_count": null,
   "id": "e96a59a3",
   "metadata": {},
   "outputs": [],
   "source": [
    "#Atribuindo a variável \"b\" o terceiro valor da segunda lista\n",
    "b = listas[1][2]"
   ]
  },
  {
   "cell_type": "code",
   "execution_count": null,
   "id": "aa6ef727",
   "metadata": {},
   "outputs": [],
   "source": [
    "b"
   ]
  },
  {
   "cell_type": "code",
   "execution_count": null,
   "id": "b4d8606d",
   "metadata": {},
   "outputs": [],
   "source": [
    "#Atribuindo a variável \"c\" o terceiro valor da primeira lista mais 10\n",
    "c = listas[0][2] + 10"
   ]
  },
  {
   "cell_type": "code",
   "execution_count": null,
   "id": "d9161c85",
   "metadata": {},
   "outputs": [],
   "source": [
    "c"
   ]
  },
  {
   "cell_type": "code",
   "execution_count": null,
   "id": "d6fe5190",
   "metadata": {},
   "outputs": [],
   "source": [
    "d = 10"
   ]
  },
  {
   "cell_type": "code",
   "execution_count": null,
   "id": "285fc336",
   "metadata": {},
   "outputs": [],
   "source": [
    "d"
   ]
  },
  {
   "cell_type": "code",
   "execution_count": null,
   "id": "442f7946",
   "metadata": {},
   "outputs": [],
   "source": [
    "#Atribuindo a variável \"e\" o primeiro valor da terceira lista multiplicado por d\n",
    "e = d * listas[2][0]"
   ]
  },
  {
   "cell_type": "code",
   "execution_count": null,
   "id": "721b2b28",
   "metadata": {},
   "outputs": [],
   "source": [
    "e"
   ]
  },
  {
   "cell_type": "markdown",
   "id": "87dfc290",
   "metadata": {},
   "source": [
    "## Concatenando Listas"
   ]
  },
  {
   "cell_type": "code",
   "execution_count": null,
   "id": "479b45d3",
   "metadata": {},
   "outputs": [],
   "source": [
    "lista_s1 = [34,32,56]"
   ]
  },
  {
   "cell_type": "code",
   "execution_count": null,
   "id": "bd754e42",
   "metadata": {},
   "outputs": [],
   "source": [
    "lista_s1"
   ]
  },
  {
   "cell_type": "code",
   "execution_count": null,
   "id": "d321798f",
   "metadata": {},
   "outputs": [],
   "source": [
    "lista_s2 = [21,90,51]"
   ]
  },
  {
   "cell_type": "code",
   "execution_count": null,
   "id": "45b66a0f",
   "metadata": {},
   "outputs": [],
   "source": [
    "lista_s2"
   ]
  },
  {
   "cell_type": "code",
   "execution_count": null,
   "id": "0ec45468",
   "metadata": {},
   "outputs": [],
   "source": [
    "#Concatenando listas\n",
    "lista_total = lista_s1 + lista_s2"
   ]
  },
  {
   "cell_type": "code",
   "execution_count": null,
   "id": "0a9d1f61",
   "metadata": {},
   "outputs": [],
   "source": [
    "lista_total"
   ]
  },
  {
   "cell_type": "markdown",
   "id": "a84431db",
   "metadata": {},
   "source": [
    "## Operador in"
   ]
  },
  {
   "cell_type": "code",
   "execution_count": null,
   "id": "7bdd648d",
   "metadata": {},
   "outputs": [],
   "source": [
    "#Criando uma lista\n",
    "lista_teste_op = [40,51,84,-5,-7,4.8]"
   ]
  },
  {
   "cell_type": "code",
   "execution_count": null,
   "id": "bec72fd6",
   "metadata": {},
   "outputs": [],
   "source": [
    "lista_teste_op"
   ]
  },
  {
   "cell_type": "code",
   "execution_count": null,
   "id": "d5b328d8",
   "metadata": {},
   "outputs": [],
   "source": [
    "#Verificando se o valor 10 pertence a lista\n",
    "print(10 in lista_teste_op)"
   ]
  },
  {
   "cell_type": "code",
   "execution_count": null,
   "id": "a6ec2400",
   "metadata": {},
   "outputs": [],
   "source": [
    "print(40 in lista_teste_op)\n",
    "#Com o operador \"in\" podemos verificar se uma lista possui um determinado valor"
   ]
  },
  {
   "cell_type": "markdown",
   "id": "cacfd199",
   "metadata": {},
   "source": [
    "## Funções Built-in"
   ]
  },
  {
   "cell_type": "code",
   "execution_count": null,
   "id": "83ea0f80",
   "metadata": {},
   "outputs": [],
   "source": [
    "#Função len() retorna o comprimento da lista\n",
    "len(lista_teste_op)"
   ]
  },
  {
   "cell_type": "code",
   "execution_count": null,
   "id": "a385f62a",
   "metadata": {},
   "outputs": [],
   "source": [
    "#Função max() retorna o valor máximo da lista (o maior valor)\n",
    "max(lista_teste_op)"
   ]
  },
  {
   "cell_type": "code",
   "execution_count": null,
   "id": "978b78e7",
   "metadata": {},
   "outputs": [],
   "source": [
    "#Função min() retorna o valor mínimo da lista (o menor valor)\n",
    "min(lista_teste_op)"
   ]
  },
  {
   "cell_type": "code",
   "execution_count": null,
   "id": "0055d88a",
   "metadata": {},
   "outputs": [],
   "source": [
    "#Criando uma lista\n",
    "listadomercado2 = [\"ovos\", \"farinha\", \"leite\", \"arroz\"]"
   ]
  },
  {
   "cell_type": "code",
   "execution_count": null,
   "id": "08e2d2f3",
   "metadata": {},
   "outputs": [],
   "source": [
    "listadomercado2"
   ]
  },
  {
   "cell_type": "code",
   "execution_count": null,
   "id": "3a21ca6c",
   "metadata": {},
   "outputs": [],
   "source": [
    "#Adicionando um item à lista\n",
    "listadomercado2.append(\"carne\")"
   ]
  },
  {
   "cell_type": "code",
   "execution_count": null,
   "id": "c68ed84c",
   "metadata": {},
   "outputs": [],
   "source": [
    "listadomercado2"
   ]
  },
  {
   "cell_type": "code",
   "execution_count": null,
   "id": "4643c385",
   "metadata": {},
   "outputs": [],
   "source": [
    "listadomercado2.append(\"carne\")"
   ]
  },
  {
   "cell_type": "code",
   "execution_count": null,
   "id": "6d613cc3",
   "metadata": {},
   "outputs": [],
   "source": [
    "listadomercado2"
   ]
  },
  {
   "cell_type": "code",
   "execution_count": null,
   "id": "cab58900",
   "metadata": {},
   "outputs": [],
   "source": [
    "#Usando a função count para ver quantas vezes um elemento aparece na lista\n",
    "listadomercado2.count(\"carne\")"
   ]
  },
  {
   "cell_type": "code",
   "execution_count": null,
   "id": "1f5078be",
   "metadata": {},
   "outputs": [],
   "source": [
    "#Criando uma lista vazia\n",
    "a = []"
   ]
  },
  {
   "cell_type": "code",
   "execution_count": null,
   "id": "b4da664f",
   "metadata": {},
   "outputs": [],
   "source": [
    "print(a)"
   ]
  },
  {
   "cell_type": "code",
   "execution_count": null,
   "id": "05802807",
   "metadata": {},
   "outputs": [],
   "source": [
    "type(a)"
   ]
  },
  {
   "cell_type": "code",
   "execution_count": null,
   "id": "458a6f3a",
   "metadata": {},
   "outputs": [],
   "source": [
    "#adicionando elementos a lista vazia\n",
    "a.append(10)"
   ]
  },
  {
   "cell_type": "code",
   "execution_count": null,
   "id": "079c47f2",
   "metadata": {},
   "outputs": [],
   "source": [
    "a"
   ]
  },
  {
   "cell_type": "code",
   "execution_count": null,
   "id": "0c4df2d2",
   "metadata": {},
   "outputs": [],
   "source": [
    "a.append(50)"
   ]
  },
  {
   "cell_type": "code",
   "execution_count": null,
   "id": "101f073c",
   "metadata": {},
   "outputs": [],
   "source": [
    "a"
   ]
  },
  {
   "cell_type": "code",
   "execution_count": null,
   "id": "f7723262",
   "metadata": {},
   "outputs": [],
   "source": [
    "#Criando uma lista\n",
    "old_list = [1,2,5,10]"
   ]
  },
  {
   "cell_type": "code",
   "execution_count": null,
   "id": "1bc0685c",
   "metadata": {},
   "outputs": [],
   "source": [
    "new_list = []"
   ]
  },
  {
   "cell_type": "code",
   "execution_count": null,
   "id": "32da2857",
   "metadata": {},
   "outputs": [],
   "source": [
    "#Copiando os itens de uma para outra (Uma espécie de \"back-up\")\n",
    "for item in old_list:\n",
    "    new_list.append(item)"
   ]
  },
  {
   "cell_type": "code",
   "execution_count": null,
   "id": "045eef30",
   "metadata": {},
   "outputs": [],
   "source": [
    "new_list"
   ]
  },
  {
   "cell_type": "code",
   "execution_count": null,
   "id": "4df8f2eb",
   "metadata": {},
   "outputs": [],
   "source": [
    "c = [1,2]"
   ]
  },
  {
   "cell_type": "code",
   "execution_count": null,
   "id": "b3b72991",
   "metadata": {},
   "outputs": [],
   "source": [
    "c.append(3)"
   ]
  },
  {
   "cell_type": "code",
   "execution_count": null,
   "id": "d9566189",
   "metadata": {},
   "outputs": [],
   "source": [
    "c.append(4)"
   ]
  },
  {
   "cell_type": "code",
   "execution_count": null,
   "id": "f17934fa",
   "metadata": {},
   "outputs": [],
   "source": [
    "c"
   ]
  },
  {
   "cell_type": "code",
   "execution_count": 1,
   "id": "8c709579",
   "metadata": {},
   "outputs": [],
   "source": [
    "d = [0,1,2]"
   ]
  },
  {
   "cell_type": "code",
   "execution_count": 2,
   "id": "6ada6476",
   "metadata": {},
   "outputs": [],
   "source": [
    "#Podemos usar o comando extend para adicionar mais de um item na lista\n",
    "d.extend([3,4,5,6,7,8,9])"
   ]
  },
  {
   "cell_type": "code",
   "execution_count": 3,
   "id": "cd19aaf6",
   "metadata": {},
   "outputs": [
    {
     "data": {
      "text/plain": [
       "[0, 1, 2, 3, 4, 5, 6, 7, 8, 9]"
      ]
     },
     "execution_count": 3,
     "metadata": {},
     "output_type": "execute_result"
    }
   ],
   "source": [
    "d"
   ]
  },
  {
   "cell_type": "code",
   "execution_count": 4,
   "id": "0ebd4fc3",
   "metadata": {},
   "outputs": [
    {
     "data": {
      "text/plain": [
       "[0, 1, 2.5, 2, 3, 4, 5, 6, 7, 8, 9]"
      ]
     },
     "execution_count": 4,
     "metadata": {},
     "output_type": "execute_result"
    }
   ],
   "source": [
    "#Com o comando insert podemos escolher a posição que queremos inserir um novo item\n",
    "d.insert(2, 2.5)\n",
    "d"
   ]
  },
  {
   "cell_type": "code",
   "execution_count": 5,
   "id": "46736a41",
   "metadata": {},
   "outputs": [
    {
     "data": {
      "text/plain": [
       "3"
      ]
     },
     "execution_count": 5,
     "metadata": {},
     "output_type": "execute_result"
    }
   ],
   "source": [
    "#Comando imprime qual o índice do item desejado\n",
    "d.index(2)"
   ]
  },
  {
   "cell_type": "code",
   "execution_count": 6,
   "id": "c506b290",
   "metadata": {},
   "outputs": [],
   "source": [
    "#remove um item da lista\n",
    "d.remove(2.5)"
   ]
  },
  {
   "cell_type": "code",
   "execution_count": 7,
   "id": "b40dec7d",
   "metadata": {},
   "outputs": [
    {
     "data": {
      "text/plain": [
       "[0, 1, 2, 3, 4, 5, 6, 7, 8, 9]"
      ]
     },
     "execution_count": 7,
     "metadata": {},
     "output_type": "execute_result"
    }
   ],
   "source": [
    "d"
   ]
  },
  {
   "cell_type": "code",
   "execution_count": 13,
   "id": "ed9c00d4",
   "metadata": {},
   "outputs": [],
   "source": [
    "#Comando inverte a lista\n",
    "d.reverse()"
   ]
  },
  {
   "cell_type": "code",
   "execution_count": 14,
   "id": "9589cd9a",
   "metadata": {},
   "outputs": [
    {
     "data": {
      "text/plain": [
       "[0, 1, 2, 3, 4, 5, 6, 7, 8, 9]"
      ]
     },
     "execution_count": 14,
     "metadata": {},
     "output_type": "execute_result"
    }
   ],
   "source": [
    "d"
   ]
  },
  {
   "cell_type": "code",
   "execution_count": 15,
   "id": "02c8dea9",
   "metadata": {},
   "outputs": [],
   "source": [
    "#Comando organiza uma lista\n",
    "d.sort()"
   ]
  },
  {
   "cell_type": "code",
   "execution_count": 16,
   "id": "8acec697",
   "metadata": {},
   "outputs": [
    {
     "data": {
      "text/plain": [
       "[0, 1, 2, 3, 4, 5, 6, 7, 8, 9]"
      ]
     },
     "execution_count": 16,
     "metadata": {},
     "output_type": "execute_result"
    }
   ],
   "source": [
    "d"
   ]
  }
 ],
 "metadata": {
  "kernelspec": {
   "display_name": "Python 3 (ipykernel)",
   "language": "python",
   "name": "python3"
  },
  "language_info": {
   "codemirror_mode": {
    "name": "ipython",
    "version": 3
   },
   "file_extension": ".py",
   "mimetype": "text/x-python",
   "name": "python",
   "nbconvert_exporter": "python",
   "pygments_lexer": "ipython3",
   "version": "3.9.7"
  }
 },
 "nbformat": 4,
 "nbformat_minor": 5
}
